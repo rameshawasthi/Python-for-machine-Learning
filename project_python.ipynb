{
 "cells": [
  {
   "cell_type": "code",
   "execution_count": 1,
   "id": "28f665e0",
   "metadata": {},
   "outputs": [
    {
     "ename": "SyntaxError",
     "evalue": "cannot assign to function call (3630447599.py, line 3)",
     "output_type": "error",
     "traceback": [
      "\u001b[1;36m  Input \u001b[1;32mIn [1]\u001b[1;36m\u001b[0m\n\u001b[1;33m    database=mysql.connector.connect(\u001b[0m\n\u001b[1;37m             ^\u001b[0m\n\u001b[1;31mSyntaxError\u001b[0m\u001b[1;31m:\u001b[0m cannot assign to function call\n"
     ]
    }
   ],
   "source": [
    "import mysql.connector\n",
    "\n",
    "database = mysql.connector.connect(\n",
    "    host=\"localhost\",\n",
    "    user=\"root\",\n",
    "    password=\"\",)= \n",
    "  database = \"college_db\"\n",
    ")\n",
    "db = database.cursor()\n",
    "    "
   ]
  },
  {
   "cell_type": "code",
   "execution_count": null,
   "id": "43e0f25f",
   "metadata": {},
   "outputs": [],
   "source": [
    "num = int(input(\"Enter number = \"))\n",
    "if num == 1:\n",
    "    n = int(input(\"Enter the number = \"))\n",
    "    for i in range(n):\n",
    "        name = input(\"Enter name = \")\n",
    "        roll= int(input(\"Enter roll = \"))\n",
    "        doj = int(input(\"Enter doj= \"))\n",
    "        sql = f\"INSERT INTO employee (name,roll,doj) VALUE('{name}','{roll}',{doj})\"\n",
    "        db.execute(sql)\n",
    "        database.commit()\n",
    "elif num ==2:\n",
    "    data = []\n",
    "    db.execute(\"SELECT * employee\")\n",
    "    db.execute(sql)\n",
    "    result = db.fectchall()\n",
    "    for x in result:\n",
    "        data.append(x)\n",
    "data \n",
    "elif num == 3:\n",
    "    sql = \"UPDATE  *employee* SET name = 'shyam' WHERE sn = 3\"\n",
    "    db.execute(sql)\n",
    "    database.commit()\n",
    "elif num ==4:\n",
    "    name = input(\"Enter your name: \")\n",
    "    sn = int(input(\"Enter SN: \"))\n",
    "    sql = f\"DELETE *employee* SET name = '{shyam}' WHERE sn = {3}\"\n",
    "    db.execute(sql)\n",
    "    database.commit()\n",
    "\n",
    "else:\n",
    "    print(\"Invalid operation\")\n",
    "        \n",
    "\n",
    "        \n"
   ]
  }
 ],
 "metadata": {
  "kernelspec": {
   "display_name": "Python 3 (ipykernel)",
   "language": "python",
   "name": "python3"
  },
  "language_info": {
   "codemirror_mode": {
    "name": "ipython",
    "version": 3
   },
   "file_extension": ".py",
   "mimetype": "text/x-python",
   "name": "python",
   "nbconvert_exporter": "python",
   "pygments_lexer": "ipython3",
   "version": "3.9.12"
  }
 },
 "nbformat": 4,
 "nbformat_minor": 5
}
