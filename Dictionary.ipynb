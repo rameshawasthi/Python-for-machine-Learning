{
 "cells": [
  {
   "cell_type": "code",
   "execution_count": null,
   "id": "5f8a525b",
   "metadata": {},
   "outputs": [],
   "source": [
    "#indexing\n",
    "#Ordered\n",
    "#multiple and duplicate values but no dublicate key\n",
    "#mutable\n",
    "#key & value dic = {<key>:<value>,<key>:<value>}\n",
    "#no auto indexing in dictionary\n",
    "#mutable\n",
    "# a = dict() empty dictonary\n",
    "#no concating in dict"
   ]
  },
  {
   "cell_type": "code",
   "execution_count": 1,
   "id": "3ded3e3c",
   "metadata": {},
   "outputs": [
    {
     "name": "stdout",
     "output_type": "stream",
     "text": [
      "{'A': 'Apple', 'B': 'ball'}\n"
     ]
    }
   ],
   "source": [
    "a = {'A':\"Apple\",'B':\"ball\"}\n",
    "print(a[])\n",
    "print(type(a))"
   ]
  },
  {
   "cell_type": "code",
   "execution_count": 4,
   "id": "ce01eaba",
   "metadata": {},
   "outputs": [
    {
     "name": "stdout",
     "output_type": "stream",
     "text": [
      "{'a': 'apple', 'b': 'ball', 'c': 'cat'}\n"
     ]
    }
   ],
   "source": [
    "d = {}\n",
    "d['a'] = \"Apple\"\n",
    "d['b'] = \"ball\"\n",
    "d['c'] = \"cat\"\n",
    "d['a'] = 'apple'\n",
    "print(d)"
   ]
  },
  {
   "cell_type": "code",
   "execution_count": null,
   "id": "a8fa3a9d",
   "metadata": {},
   "outputs": [],
   "source": [
    "info = {}\n",
    "n = int(input(\"Enter n= \"))\n",
    "for i in range(n):\n",
    "    name = input(\"Enter name = \")\n",
    "    phone = input(\"Enter phone = \")\n",
    "    info[phone] = name\n",
    "print(info)"
   ]
  },
  {
   "cell_type": "code",
   "execution_count": null,
   "id": "b73ec483",
   "metadata": {},
   "outputs": [],
   "source": [
    "for i in info:\n",
    "    print(i)\n",
    "    \n",
    "for i in info.values():\n",
    "    print(i)\n",
    "\n",
    "for i in info.items():\n",
    "    print(i)"
   ]
  },
  {
   "cell_type": "code",
   "execution_count": null,
   "id": "b005c784",
   "metadata": {},
   "outputs": [],
   "source": [
    "l = []\n",
    "for i in info.items():\n",
    "    l.append(i)\n",
    "dict(l)"
   ]
  },
  {
   "cell_type": "code",
   "execution_count": 12,
   "id": "56c8a178",
   "metadata": {},
   "outputs": [
    {
     "name": "stdout",
     "output_type": "stream",
     "text": [
      "{'b': 456, 'c': 789, 'd': 123}\n"
     ]
    },
    {
     "ename": "KeyError",
     "evalue": "'a'",
     "output_type": "error",
     "traceback": [
      "\u001b[1;31m---------------------------------------------------------------------------\u001b[0m",
      "\u001b[1;31mKeyError\u001b[0m                                  Traceback (most recent call last)",
      "Input \u001b[1;32mIn [12]\u001b[0m, in \u001b[0;36m<cell line: 8>\u001b[1;34m()\u001b[0m\n\u001b[0;32m      6\u001b[0m \u001b[38;5;28;01mdel\u001b[39;00m dic[\u001b[38;5;124m'\u001b[39m\u001b[38;5;124ma\u001b[39m\u001b[38;5;124m'\u001b[39m]\n\u001b[0;32m      7\u001b[0m \u001b[38;5;28mprint\u001b[39m(dic)\n\u001b[1;32m----> 8\u001b[0m b \u001b[38;5;241m=\u001b[39m \u001b[43mdic\u001b[49m\u001b[38;5;241;43m.\u001b[39;49m\u001b[43mpop\u001b[49m\u001b[43m(\u001b[49m\u001b[38;5;124;43m'\u001b[39;49m\u001b[38;5;124;43ma\u001b[39;49m\u001b[38;5;124;43m'\u001b[39;49m\u001b[43m)\u001b[49m\n\u001b[0;32m      9\u001b[0m \u001b[38;5;28mprint\u001b[39m(b)\n",
      "\u001b[1;31mKeyError\u001b[0m: 'a'"
     ]
    }
   ],
   "source": [
    "#update\n",
    "#a.update(b)\n",
    "#del , pop()\n",
    "\n",
    "dic = {'a': 123,'b': 456,'c':789,'d': 123}\n",
    "del dic['a']\n",
    "print(dic)\n",
    "b = dic.pop('a') # pop is using for moving value from one to another variable\n",
    "print(b)"
   ]
  },
  {
   "cell_type": "code",
   "execution_count": 13,
   "id": "c369e9c5",
   "metadata": {},
   "outputs": [
    {
     "name": "stdout",
     "output_type": "stream",
     "text": [
      "{'ram': [9876323121, 9774232], 'shyam': [90109913, 2144134], ' hari': [9799893313, 13445]}\n"
     ]
    }
   ],
   "source": [
    "#list inside dictonary\n",
    "a = {'ram':[9876323121,9774232],\n",
    "     'shyam':[90109913,2144134],\n",
    "     ' hari': [9799893313,13445]}\n",
    "print(a)"
   ]
  },
  {
   "cell_type": "code",
   "execution_count": null,
   "id": "e45d3dbc",
   "metadata": {},
   "outputs": [],
   "source": [
    "info = {}\n",
    "n = int(input(\"Enter n = \"))\n",
    "for i in range(n):\n",
    "    name = input(\"Enter name = \")\n",
    "    ntc_phone = input(\"Enter phone = \")\n",
    "    ncell_phone = input(\"Enter phone = \")\n",
    "    info[name] = [ntc_phone, ncell_phone]\n",
    "print(info)\n"
   ]
  },
  {
   "cell_type": "code",
   "execution_count": 6,
   "id": "46f7bf17",
   "metadata": {},
   "outputs": [
    {
     "name": "stdout",
     "output_type": "stream",
     "text": [
      "Enter number= 2\n",
      "Enter your name= ram\n",
      "Enter your address= kathmandu\n",
      "Enter your name= shyam\n",
      "Enter your address= lalitpur\n",
      "{'ram': ['kathmandu'], 'shyam': ['lalitpur']}\n",
      "\n"
     ]
    }
   ],
   "source": [
    "info = {}\n",
    "num = int(input(\"Enter number= \"))\n",
    "for i in range(num):\n",
    "    name = input(\"Enter your name= \")\n",
    "    address = input(\"Enter your address= \")\n",
    "    info[name]=[address]\n",
    "print(info)\n",
    "                    "
   ]
  },
  {
   "cell_type": "code",
   "execution_count": 7,
   "id": "f44224c1",
   "metadata": {},
   "outputs": [
    {
     "data": {
      "text/plain": [
       "['ram', 'shyam']"
      ]
     },
     "execution_count": 7,
     "metadata": {},
     "output_type": "execute_result"
    }
   ],
   "source": [
    "list(info)"
   ]
  },
  {
   "cell_type": "code",
   "execution_count": null,
   "id": "868980ee",
   "metadata": {},
   "outputs": [],
   "source": [
    "employee_details = {}\n",
    "employee_ = input(\"Enter employee name = \")\n",
    "for i in range(empl):\n",
    "    "
   ]
  },
  {
   "cell_type": "code",
   "execution_count": 5,
   "id": "4fdde72b",
   "metadata": {},
   "outputs": [
    {
     "data": {
      "text/plain": [
       "{1: {'Name': 'Ram', 'Age': 56, 'Address': 'kathmandu'},\n",
       " 2: {'Name': 'Hari', 'Age': 43, 'Address': 'lalitpur'},\n",
       " 3: {'Name': 'Ram', 'Age': 56, 'Address': 'kathmandu'}}"
      ]
     },
     "execution_count": 5,
     "metadata": {},
     "output_type": "execute_result"
    }
   ],
   "source": [
    "#Dictonary inside Dictonary\n",
    "d = {1:{\"Name\":\"Ram\",\"Age\":56,\"Address\":\"kathmandu\"},\n",
    "     2:{\"Name\":\"Hari\",\"Age\":43,\"Address\":\"lalitpur\"},\n",
    "     3:{\"Name\":\"Ram\",\"Age\":56,\"Address\":\"kathmandu\"}}\n",
    "d"
   ]
  },
  {
   "cell_type": "code",
   "execution_count": 2,
   "id": "d36c8e0a",
   "metadata": {},
   "outputs": [
    {
     "data": {
      "text/plain": [
       "{1: {'Name': 'Ram', 'Age': 56, 'Address': 'kathmandu'},\n",
       " 2: {'Name': 'Hari',\n",
       "  'Age': 43,\n",
       "  'Address': 'lalitpur',\n",
       "  3: {'Name': 'Ram', 'Age': 56, 'Address': 'kathmandu'}},\n",
       " 4: {'Name': 'sumit', 'Age': 17, 'address': 'lalitpur'}}"
      ]
     },
     "execution_count": 2,
     "metadata": {},
     "output_type": "execute_result"
    }
   ],
   "source": [
    "d[4]={'Name':'sumit', 'Age':17, 'address':'lalitpur'}\n",
    "d"
   ]
  },
  {
   "cell_type": "code",
   "execution_count": 3,
   "id": "e115e1ad",
   "metadata": {},
   "outputs": [
    {
     "data": {
      "text/plain": [
       "{1: {'Name': 'Ram', 'Age': 56, 'Address': 'kathmandu'},\n",
       " 2: {'Name': 'Hari',\n",
       "  'Age': 43,\n",
       "  'Address': 'lalitpur',\n",
       "  3: {'Name': 'Ram', 'Age': 56, 'Address': 'kathmandu'}}}"
      ]
     },
     "execution_count": 3,
     "metadata": {},
     "output_type": "execute_result"
    }
   ],
   "source": [
    "del d[4]\n",
    "d"
   ]
  },
  {
   "cell_type": "code",
   "execution_count": 6,
   "id": "dde454eb",
   "metadata": {},
   "outputs": [
    {
     "data": {
      "text/plain": [
       "{1: {'Name': 'Ram', 'Age': 56, 'Address': 'kathmandu', 'phone': 9857731212},\n",
       " 2: {'Name': 'Hari', 'Age': 43, 'Address': 'lalitpur', 'phone': 9883122121},\n",
       " 3: {'Name': 'Ram', 'Age': 56, 'Address': 'kathmandu', 'phone': 9833134533}}"
      ]
     },
     "execution_count": 6,
     "metadata": {},
     "output_type": "execute_result"
    }
   ],
   "source": [
    "d = {1:{\"Name\":\"Ram\",\"Age\":56,\"Address\":\"kathmandu\"},\n",
    "     2:{\"Name\":\"Hari\",\"Age\":43,\"Address\":\"lalitpur\"},\n",
    "     3:{\"Name\":\"Ram\",\"Age\":56,\"Address\":\"kathmandu\"}}\n",
    "d[1]['phone'] = 9857731212\n",
    "d[2]['phone'] = 9883122121\n",
    "d[3]['phone'] = 9833134533\n",
    "d"
   ]
  },
  {
   "cell_type": "code",
   "execution_count": 7,
   "id": "bfaf38ad",
   "metadata": {},
   "outputs": [
    {
     "name": "stdout",
     "output_type": "stream",
     "text": [
      "Enter n = 3\n",
      "Enter name = ram\n",
      "Enter age = 42\n",
      "Enter the address = kath\n",
      "Enter phone = 988932\n",
      "Enter name = hari\n",
      "Enter age = 42\n",
      "Enter the address = kathm\n",
      "Enter phone = 89313\n",
      "Enter name = hari\n",
      "Enter age = 54\n",
      "Enter the address = lalitpur\n",
      "Enter phone = 988932\n",
      "{1: {'Name': 'ram', 'Age': 42, 'Address': 'kath'}, 2: {'Name': 'hari', 'Age': 42, 'Address': 'kathm'}, 3: {'Name': 'hari', 'Age': 54, 'Address': 'lalitpur'}}\n"
     ]
    }
   ],
   "source": [
    "d = {}\n",
    "n = int(input(\"Enter n = \"))\n",
    "for i in range(1,n+1):\n",
    "    name = input(\"Enter name = \")\n",
    "    age = int(input(\"Enter age = \"))\n",
    "    add = input(\"Enter the address = \")\n",
    "    phone = int(input(\"Enter phone = \"))\n",
    "    d[i] = {\"Name\":name,\"Age\":age,\"Address\":add}\n",
    "print(d)\n",
    "    "
   ]
  },
  {
   "cell_type": "code",
   "execution_count": null,
   "id": "bc67f996",
   "metadata": {},
   "outputs": [],
   "source": [
    "#wap to create following type CRUD (create, read,update,delete)\n",
    "#d = {\"Name\":[\"Ram\",\"Hari\",\"Sita\"]\n",
    "    #'Age':[23,43,45],\n",
    "    # 'Address':['Kathmandu','bara','Lalitpur']}\n",
    "        \n",
    "#a = [{\"Name\":'ram','age':42,'address':'kathmandu'},\n",
    "     #{\"Name\":'ram','age':42,'address':'kathmandu}]"
   ]
  }
 ],
 "metadata": {
  "kernelspec": {
   "display_name": "Python 3 (ipykernel)",
   "language": "python",
   "name": "python3"
  },
  "language_info": {
   "codemirror_mode": {
    "name": "ipython",
    "version": 3
   },
   "file_extension": ".py",
   "mimetype": "text/x-python",
   "name": "python",
   "nbconvert_exporter": "python",
   "pygments_lexer": "ipython3",
   "version": "3.9.12"
  }
 },
 "nbformat": 4,
 "nbformat_minor": 5
}
