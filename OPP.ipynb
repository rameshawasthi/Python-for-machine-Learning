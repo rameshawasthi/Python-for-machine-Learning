{
 "cells": [
  {
   "cell_type": "code",
   "execution_count": null,
   "id": "3b6d1b9a",
   "metadata": {},
   "outputs": [],
   "source": [
    "l = int(input(\"Enter the lenght = \"))\n",
    "b = int(input(\"Enter the breadth = \"))\n",
    "h = int(input(\"Enter the height = \"))\n",
    "\n",
    "class Cal:\n",
    "    def __init__(self,l,b,h):\n",
    "        self.len = l\n",
    "        self.bed = b\n",
    "        self.hg = h\n",
    "    def area():\n",
    "        a = l*b\n",
    "        return a\n",
    "    def volume:\n",
    "        v = l*b*h\n",
    "        return v\n",
    "ob = cal()\n",
    "ob.area()\n"
   ]
  }
 ],
 "metadata": {
  "kernelspec": {
   "display_name": "Python 3 (ipykernel)",
   "language": "python",
   "name": "python3"
  },
  "language_info": {
   "codemirror_mode": {
    "name": "ipython",
    "version": 3
   },
   "file_extension": ".py",
   "mimetype": "text/x-python",
   "name": "python",
   "nbconvert_exporter": "python",
   "pygments_lexer": "ipython3",
   "version": "3.9.12"
  }
 },
 "nbformat": 4,
 "nbformat_minor": 5
}
