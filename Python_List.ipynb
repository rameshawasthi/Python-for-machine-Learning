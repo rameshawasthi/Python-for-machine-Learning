{
 "cells": [
  {
   "cell_type": "code",
   "execution_count": null,
   "id": "4e79a923",
   "metadata": {},
   "outputs": [],
   "source": [
    "#append():  Adds one element to a list.\n",
    "#extend():  Adds multiple elements to a list.\n",
    "#index():   Returns the first appearance of a particular value.\n",
    "#max(list): It returns an item from the list with a max value.\n",
    "#min(list): It returns an item from the list with a min value.\n",
    "#len(list): It gives the overall length of the list.\n",
    "#clear(): Removes all the elements from the list.\n",
    "#insert(): Adds a component at the required position.\n",
    "#count(): Returns the number of elements with the required value.\n",
    "#pop(): Removes the element at the required position.\n",
    "#remove(): Removes the primary item with the desired value.\n",
    "#reverse(): Reverses the order of the list.\n",
    "#copy():  Returns a duplicate of the list."
   ]
  },
  {
   "cell_type": "code",
   "execution_count": 4,
   "id": "ff3d5e9b",
   "metadata": {},
   "outputs": [
    {
     "data": {
      "text/plain": [
       "['red', 'yellow', 'whilte']"
      ]
     },
     "execution_count": 4,
     "metadata": {},
     "output_type": "execute_result"
    }
   ],
   "source": [
    "color = ['red','yellow','whilte']\n",
    "color2 = color.copy()\n",
    "color2\n"
   ]
  },
  {
   "cell_type": "code",
   "execution_count": 10,
   "id": "e2192764",
   "metadata": {},
   "outputs": [
    {
     "name": "stdout",
     "output_type": "stream",
     "text": [
      "['red', 'yellow', 'whilte']\n",
      "3\n",
      "yellow\n"
     ]
    }
   ],
   "source": [
    "color = ['red','yellow','whilte']\n",
    "for i in range (1):\n",
    "    print(color)\n",
    "    print(len(color))\n",
    "    print(color[1])"
   ]
  },
  {
   "cell_type": "code",
   "execution_count": 6,
   "id": "dc31bb4c",
   "metadata": {},
   "outputs": [
    {
     "name": "stdout",
     "output_type": "stream",
     "text": [
      "['red', 'yellow', 'whilte']\n"
     ]
    }
   ],
   "source": [
    "color = ['red','yellow','whilte']\n",
    "i = 2\n",
    "while i<len(color):\n",
    "    print(color)\n",
    "    i += 1"
   ]
  },
  {
   "cell_type": "code",
   "execution_count": 17,
   "id": "ff6051ec",
   "metadata": {},
   "outputs": [
    {
     "data": {
      "text/plain": [
       "['red', 'yellow', 'whilte', 'black']"
      ]
     },
     "execution_count": 17,
     "metadata": {},
     "output_type": "execute_result"
    }
   ],
   "source": [
    "color = ['red','yellow','whilte']\n",
    "color.append(\"black\")\n",
    "color"
   ]
  },
  {
   "cell_type": "code",
   "execution_count": 10,
   "id": "e6bd9f9a",
   "metadata": {},
   "outputs": [
    {
     "data": {
      "text/plain": [
       "['red', 'yellow', 'black', 'whilte', 'black']"
      ]
     },
     "execution_count": 10,
     "metadata": {},
     "output_type": "execute_result"
    }
   ],
   "source": [
    "color.insert(2,\"black\")\n",
    "color"
   ]
  },
  {
   "cell_type": "code",
   "execution_count": 11,
   "id": "0926f7d2",
   "metadata": {},
   "outputs": [
    {
     "data": {
      "text/plain": [
       "['black', 'black', 'red', 'whilte', 'yellow']"
      ]
     },
     "execution_count": 11,
     "metadata": {},
     "output_type": "execute_result"
    }
   ],
   "source": [
    "color.sort()\n",
    "color"
   ]
  },
  {
   "cell_type": "code",
   "execution_count": 15,
   "id": "3b4a64a9",
   "metadata": {},
   "outputs": [
    {
     "data": {
      "text/plain": [
       "'yellow'"
      ]
     },
     "execution_count": 15,
     "metadata": {},
     "output_type": "execute_result"
    }
   ],
   "source": [
    "color1 = max(color)\n",
    "color1"
   ]
  },
  {
   "cell_type": "code",
   "execution_count": 25,
   "id": "f39d648d",
   "metadata": {},
   "outputs": [
    {
     "data": {
      "text/plain": [
       "['red', 'yellow', 'whilte', 'green', 'morron']"
      ]
     },
     "execution_count": 25,
     "metadata": {},
     "output_type": "execute_result"
    }
   ],
   "source": [
    "color = ['red','yellow','whilte']\n",
    "color.extend([\"green\",\"morron\"])\n",
    "color"
   ]
  },
  {
   "cell_type": "code",
   "execution_count": 2,
   "id": "f603e0ce",
   "metadata": {},
   "outputs": [
    {
     "data": {
      "text/plain": [
       "3"
      ]
     },
     "execution_count": 2,
     "metadata": {},
     "output_type": "execute_result"
    }
   ],
   "source": [
    "color = ['red', 'yellow', 'whilte', 'green', 'morron']\n",
    "color.index('green')"
   ]
  },
  {
   "cell_type": "code",
   "execution_count": null,
   "id": "24e3369a",
   "metadata": {},
   "outputs": [],
   "source": []
  }
 ],
 "metadata": {
  "kernelspec": {
   "display_name": "Python 3 (ipykernel)",
   "language": "python",
   "name": "python3"
  },
  "language_info": {
   "codemirror_mode": {
    "name": "ipython",
    "version": 3
   },
   "file_extension": ".py",
   "mimetype": "text/x-python",
   "name": "python",
   "nbconvert_exporter": "python",
   "pygments_lexer": "ipython3",
   "version": "3.9.12"
  }
 },
 "nbformat": 4,
 "nbformat_minor": 5
}
