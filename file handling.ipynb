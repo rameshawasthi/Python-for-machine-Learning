{
 "cells": [
  {
   "cell_type": "code",
   "execution_count": 1,
   "id": "59332c94",
   "metadata": {},
   "outputs": [],
   "source": [
    "# file = open(<'file_name'>, <'mode'>)\n",
    "\n",
    "#with open('<file_name>', '<Mode>') as file:\n",
    "#modes\n",
    "#x --> creat\n",
    "#r --> read \n",
    "#a --> append\n",
    "#w --> write\n",
    "\n",
    "#file = open('data.txt', 'x')\n",
    "#file.close()"
   ]
  },
  {
   "cell_type": "code",
   "execution_count": 2,
   "id": "68ff288b",
   "metadata": {},
   "outputs": [
    {
     "ename": "FileExistsError",
     "evalue": "[Errno 17] File exists: 'data.txt'",
     "output_type": "error",
     "traceback": [
      "\u001b[1;31m---------------------------------------------------------------------------\u001b[0m",
      "\u001b[1;31mFileExistsError\u001b[0m                           Traceback (most recent call last)",
      "Input \u001b[1;32mIn [2]\u001b[0m, in \u001b[0;36m<cell line: 1>\u001b[1;34m()\u001b[0m\n\u001b[1;32m----> 1\u001b[0m file \u001b[38;5;241m=\u001b[39m \u001b[38;5;28;43mopen\u001b[39;49m\u001b[43m(\u001b[49m\u001b[38;5;124;43m'\u001b[39;49m\u001b[38;5;124;43mdata.txt\u001b[39;49m\u001b[38;5;124;43m'\u001b[39;49m\u001b[43m,\u001b[49m\u001b[43m \u001b[49m\u001b[38;5;124;43m'\u001b[39;49m\u001b[38;5;124;43mx\u001b[39;49m\u001b[38;5;124;43m'\u001b[39;49m\u001b[43m)\u001b[49m\n\u001b[0;32m      2\u001b[0m file\u001b[38;5;241m.\u001b[39mclose()\n",
      "\u001b[1;31mFileExistsError\u001b[0m: [Errno 17] File exists: 'data.txt'"
     ]
    }
   ],
   "source": [
    "file = open('data.txt', 'x')\n",
    "file.close()"
   ]
  },
  {
   "cell_type": "code",
   "execution_count": null,
   "id": "4ad71e6f",
   "metadata": {},
   "outputs": [],
   "source": [
    "try:\n",
    "    file = open('data.txt', 'x')\n",
    "    file.close()\n",
    "except:\n",
    "    print(\" error handling\")"
   ]
  },
  {
   "cell_type": "code",
   "execution_count": null,
   "id": "47d4dc31",
   "metadata": {},
   "outputs": [],
   "source": [
    "file = open('data.txt', 'r')\n",
    "x = file.read()\n",
    "print(x)\n",
    "file.close()"
   ]
  },
  {
   "cell_type": "code",
   "execution_count": null,
   "id": "95289f70",
   "metadata": {},
   "outputs": [],
   "source": [
    "print(type(x))"
   ]
  },
  {
   "cell_type": "code",
   "execution_count": null,
   "id": "709d65d8",
   "metadata": {},
   "outputs": [],
   "source": [
    "x"
   ]
  },
  {
   "cell_type": "code",
   "execution_count": null,
   "id": "0f826ab0",
   "metadata": {},
   "outputs": [],
   "source": [
    "y = x.split(\"\\n\")"
   ]
  },
  {
   "cell_type": "code",
   "execution_count": null,
   "id": "e910f773",
   "metadata": {},
   "outputs": [],
   "source": [
    "file = open('datas.txt', 'w')\n",
    "file.write(\"Hello world\")\n",
    "file.close()"
   ]
  },
  {
   "cell_type": "code",
   "execution_count": null,
   "id": "726b9d76",
   "metadata": {},
   "outputs": [],
   "source": [
    "#wap to create a billing system string\n",
    "unit = int(input(\"Enter the no of units consumed = \"))\n",
    "meter_charge = 100\n",
    "if unit<=100:\n",
    "    charge = unit*5\n",
    "    print(\"Total bill is RS = \", unit+charge)\n",
    "elif unit<=250:\n",
    "    charge = unit*10\n",
    "    print(\"Total bill is RS = \", unit+charge)\n",
    "else:\n",
    "    charge = unit*15\n",
    "    print(\"Your charge is more than 10% sir. \\nyour total bill is = \",charge+unit,\".\",\"\\nThank you.\")\n",
    "    \n",
    "file = open('data.txt','w')\n",
    "file.write(total)\n",
    "file.close()\n",
    "\n"
   ]
  },
  {
   "cell_type": "code",
   "execution_count": null,
   "id": "ae751af8",
   "metadata": {},
   "outputs": [],
   "source": [
    "bill = str ()\n",
    "file = open('data.txt','a')\n",
    "n = int(input(\"Enter n = \"))\n",
    "for i in range(n):\n",
    "    name = input(\"Enter name = \")\n",
    "    price = int(input(\"Enter price = \"))\n",
    "    quantity = int(input(\"Enter qt = \"))\n",
    "    total = quantity*price\n",
    "    info = f\"{name} {price} {quantity} {total}\\n\"\n",
    "    file.write(info)\n",
    "    \n",
    "print(bill)\n",
    "file.close()"
   ]
  },
  {
   "cell_type": "code",
   "execution_count": 3,
   "id": "0084fb8b",
   "metadata": {},
   "outputs": [
    {
     "name": "stdout",
     "output_type": "stream",
     "text": [
      "Enter n = 2\n",
      "Enter name = momo\n",
      "Enter price = 150\n",
      "Enter qt = 2\n",
      "Enter name = momo jhol\n",
      "Enter price = 300\n",
      "Enter qt = 2\n",
      "\n"
     ]
    }
   ],
   "source": [
    "bill = str ()\n",
    "file = open('data.csv','a')\n",
    "n = int(input(\"Enter n = \"))\n",
    "for i in range(n):\n",
    "    name = input(\"Enter name = \")\n",
    "    price = int(input(\"Enter price = \"))\n",
    "    quantity = int(input(\"Enter qt = \"))\n",
    "    total = quantity*price\n",
    "    info = f\"{name},{price},{quantity},{total}\\n\"\n",
    "    file = file('data.csv','w')\n",
    "    file.write(\"Name,Price,Quantity,Total\\n\")\n",
    "    file.write(bill)\n",
    "    \n",
    "print(bill)\n",
    "file.close()"
   ]
  },
  {
   "cell_type": "code",
   "execution_count": 1,
   "id": "b7bdbef3",
   "metadata": {},
   "outputs": [
    {
     "data": {
      "text/html": [
       "<div>\n",
       "<style scoped>\n",
       "    .dataframe tbody tr th:only-of-type {\n",
       "        vertical-align: middle;\n",
       "    }\n",
       "\n",
       "    .dataframe tbody tr th {\n",
       "        vertical-align: top;\n",
       "    }\n",
       "\n",
       "    .dataframe thead th {\n",
       "        text-align: right;\n",
       "    }\n",
       "</style>\n",
       "<table border=\"1\" class=\"dataframe\">\n",
       "  <thead>\n",
       "    <tr style=\"text-align: right;\">\n",
       "      <th></th>\n",
       "      <th>momo</th>\n",
       "      <th>150</th>\n",
       "      <th>2</th>\n",
       "      <th>300</th>\n",
       "    </tr>\n",
       "  </thead>\n",
       "  <tbody>\n",
       "    <tr>\n",
       "      <th>0</th>\n",
       "      <td>momo jhol</td>\n",
       "      <td>300</td>\n",
       "      <td>2</td>\n",
       "      <td>600</td>\n",
       "    </tr>\n",
       "  </tbody>\n",
       "</table>\n",
       "</div>"
      ],
      "text/plain": [
       "        momo  150  2  300\n",
       "0  momo jhol  300  2  600"
      ]
     },
     "execution_count": 1,
     "metadata": {},
     "output_type": "execute_result"
    }
   ],
   "source": [
    "import pandas as pd\n",
    "df = pd.read_csv('data.csv')\n",
    "df"
   ]
  },
  {
   "cell_type": "code",
   "execution_count": 3,
   "id": "927a7586",
   "metadata": {},
   "outputs": [
    {
     "name": "stdout",
     "output_type": "stream",
     "text": [
      "2\n",
      "4\n",
      "8\n",
      "16\n"
     ]
    }
   ],
   "source": [
    "counter = 1\n",
    "while counter < 10:\n",
    "    counter = counter * 2\n",
    "    print(counter)\n",
    "del counter"
   ]
  },
  {
   "cell_type": "code",
   "execution_count": null,
   "id": "b6064354",
   "metadata": {},
   "outputs": [],
   "source": []
  }
 ],
 "metadata": {
  "kernelspec": {
   "display_name": "Python 3 (ipykernel)",
   "language": "python",
   "name": "python3"
  },
  "language_info": {
   "codemirror_mode": {
    "name": "ipython",
    "version": 3
   },
   "file_extension": ".py",
   "mimetype": "text/x-python",
   "name": "python",
   "nbconvert_exporter": "python",
   "pygments_lexer": "ipython3",
   "version": "3.9.12"
  }
 },
 "nbformat": 4,
 "nbformat_minor": 5
}
