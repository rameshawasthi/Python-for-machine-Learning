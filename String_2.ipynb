{
 "cells": [
  {
   "cell_type": "code",
   "execution_count": 6,
   "id": "d8620808",
   "metadata": {},
   "outputs": [
    {
     "name": "stdout",
     "output_type": "stream",
     "text": [
      "hello world\n",
      "<class 'str'>\n"
     ]
    }
   ],
   "source": [
    "#note String Datatype\n",
    "#sequence of character\n",
    "#this is immutable datatype\n",
    "#\\n break new line \"\\n\"\n",
    "#blank a+\" \"+b\n",
    "#string slicing\n",
    "#\n",
    "a = \"hello world \"\n",
    "b = 'nepal'\n",
    "print(a)\n",
    "print(type(a))"
   ]
  },
  {
   "cell_type": "code",
   "execution_count": 9,
   "id": "0911ef48",
   "metadata": {},
   "outputs": [
    {
     "data": {
      "text/plain": [
       "'n'"
      ]
     },
     "execution_count": 9,
     "metadata": {},
     "output_type": "execute_result"
    }
   ],
   "source": [
    "a = \"python\"\n",
    "a[-1]"
   ]
  },
  {
   "cell_type": "code",
   "execution_count": 8,
   "id": "2368870c",
   "metadata": {},
   "outputs": [
    {
     "data": {
      "text/plain": [
       "'hello worl'"
      ]
     },
     "execution_count": 8,
     "metadata": {},
     "output_type": "execute_result"
    }
   ],
   "source": [
    "a = \"hello world i am python\"\n",
    "a[0:10]"
   ]
  },
  {
   "cell_type": "code",
   "execution_count": 10,
   "id": "43dbe0b1",
   "metadata": {},
   "outputs": [
    {
     "name": "stdout",
     "output_type": "stream",
     "text": [
      "hlowrdia y\n"
     ]
    }
   ],
   "source": [
    "a = \"hello world i am python\"\n",
    "print(a[0:20:2])"
   ]
  },
  {
   "cell_type": "code",
   "execution_count": 12,
   "id": "37760263",
   "metadata": {},
   "outputs": [
    {
     "name": "stdout",
     "output_type": "stream",
     "text": [
      "nohtyP\n"
     ]
    }
   ],
   "source": [
    "a = \"Python\"\n",
    "print(a[-1:-7:-1])\n"
   ]
  },
  {
   "cell_type": "code",
   "execution_count": 13,
   "id": "db339fe4",
   "metadata": {},
   "outputs": [
    {
     "name": "stdout",
     "output_type": "stream",
     "text": [
      "nohtyP\n"
     ]
    }
   ],
   "source": [
    "a = \"Python\"\n",
    "print(a[::-1])"
   ]
  },
  {
   "cell_type": "code",
   "execution_count": 14,
   "id": "a885b0ed",
   "metadata": {},
   "outputs": [
    {
     "name": "stdout",
     "output_type": "stream",
     "text": [
      "nohtyP\n"
     ]
    }
   ],
   "source": [
    "a = \"Python\"\n",
    "print(a[-1::-1])"
   ]
  },
  {
   "cell_type": "code",
   "execution_count": null,
   "id": "5eb28f68",
   "metadata": {},
   "outputs": [],
   "source": [
    "#string \n",
    "a = \"Ram\"\n",
    "age = 40\n",
    "c  = \"hello i am \" +a+\" i am\"+str(age)\n",
    "print(c)\n"
   ]
  },
  {
   "cell_type": "code",
   "execution_count": 18,
   "id": "77eb04fb",
   "metadata": {},
   "outputs": [
    {
     "data": {
      "text/plain": [
       "'Hello I am Ram. I am 40'"
      ]
     },
     "execution_count": 18,
     "metadata": {},
     "output_type": "execute_result"
    }
   ],
   "source": [
    "#string Formattting\n",
    "a = \"Ram\"\n",
    "b = 40\n",
    "info = f\"Hello I am {a}. I am {b}\"\n",
    "info"
   ]
  },
  {
   "cell_type": "code",
   "execution_count": null,
   "id": "3ee5d3b8",
   "metadata": {},
   "outputs": [],
   "source": [
    "name = input(\"Enter name= \")\n",
    "age = int(input(\"Enter age= \"))\n",
    "add = input(\"Enter add= \")\n",
    "info = f\"hello world i am {name}. I am from {add}. I am {age}\n",
    "print(info)\n",
    "#wap to create a billing system string\n",
    "#wap to create a phone no entry system\n"
   ]
  },
  {
   "cell_type": "code",
   "execution_count": 19,
   "id": "e52c3302",
   "metadata": {},
   "outputs": [
    {
     "name": "stdout",
     "output_type": "stream",
     "text": [
      " python\n"
     ]
    }
   ],
   "source": [
    "a = \" Python\"\n",
    "print(a.lower())"
   ]
  },
  {
   "cell_type": "code",
   "execution_count": 20,
   "id": "d5b30045",
   "metadata": {},
   "outputs": [
    {
     "name": "stdout",
     "output_type": "stream",
     "text": [
      " Python\n"
     ]
    }
   ],
   "source": [
    "print(a)"
   ]
  },
  {
   "cell_type": "code",
   "execution_count": 22,
   "id": "38125ccf",
   "metadata": {},
   "outputs": [
    {
     "name": "stdout",
     "output_type": "stream",
     "text": [
      "python\n"
     ]
    }
   ],
   "source": [
    "a = \"python\"\n",
    "a = a.lower()\n",
    "print(a)"
   ]
  },
  {
   "cell_type": "code",
   "execution_count": 23,
   "id": "092c8052",
   "metadata": {},
   "outputs": [
    {
     "data": {
      "text/plain": [
       "'PYTHON'"
      ]
     },
     "execution_count": 23,
     "metadata": {},
     "output_type": "execute_result"
    }
   ],
   "source": [
    "a = \"Python\"\n",
    "a = a.upper()\n",
    "a"
   ]
  },
  {
   "cell_type": "code",
   "execution_count": 25,
   "id": "f435b2a9",
   "metadata": {},
   "outputs": [
    {
     "name": "stdout",
     "output_type": "stream",
     "text": [
      "ram hari shyam hari sita gita ram\n",
      "Enter name = ram\n",
      "yes\n",
      "2\n"
     ]
    }
   ],
   "source": [
    "a = \"ram hari shyam hari sita gita ram\".lower()\n",
    "print(a)\n",
    "name = input(\"Enter name = \").lower()\n",
    "if name in a:\n",
    "    print(\"yes\")\n",
    "    print(a.count(name))"
   ]
  },
  {
   "cell_type": "code",
   "execution_count": null,
   "id": "9fe8739b",
   "metadata": {},
   "outputs": [],
   "source": [
    "#replace function \n",
    "\n",
    "a = \"ram hari shyam hari sita gita ram\"\n",
    "a = a.replace('ram', 'Rama')\n",
    "print(a)"
   ]
  },
  {
   "cell_type": "code",
   "execution_count": 28,
   "id": "044fbb03",
   "metadata": {},
   "outputs": [
    {
     "name": "stdout",
     "output_type": "stream",
     "text": [
      "rama hari shyam hari sita gita ram\n"
     ]
    }
   ],
   "source": [
    "a = \"ram hari shyam hari sita gita ram\"\n",
    "b = \"rama\"\n",
    "c = b+a[3:]\n",
    "print(c)\n",
    "#no pratical"
   ]
  },
  {
   "cell_type": "code",
   "execution_count": 14,
   "id": "d6f90a01",
   "metadata": {},
   "outputs": [
    {
     "name": "stdout",
     "output_type": "stream",
     "text": [
      "Enter the no of units consumed = 200\n",
      "Total bill is RS =  2200\n"
     ]
    }
   ],
   "source": [
    "#wap to create a billing system string\n",
    "unit = int(input(\"Enter the no of units consumed = \"))\n",
    "meter_charge = 100\n",
    "if unit<=100:\n",
    "    charge = unit*5\n",
    "    print(\"Total bill is RS = \", unit+charge)\n",
    "elif unit<=250:\n",
    "    charge = unit*10\n",
    "    print(\"Total bill is RS = \", unit+charge)\n",
    "else:\n",
    "    charge = unit*15\n",
    "    print(\"Your charge is more than 10% sir. \\nyour total bill is = \",charge+unit,\".\",\"\\nThank you.\")\n"
   ]
  },
  {
   "cell_type": "markdown",
   "id": "c333c838",
   "metadata": {},
   "source": [
    "#wap telephone entry\n",
    "telphone = 1\n",
    "while telphone<=5:\n",
    "     phone = input(\"Enter Client Phone number = \")\n",
    "     print(phone)\n",
    "     telphone = telphone+1\n"
   ]
  },
  {
   "cell_type": "code",
   "execution_count": null,
   "id": "5f5f9004",
   "metadata": {},
   "outputs": [
    {
     "name": "stdout",
     "output_type": "stream",
     "text": [
      "Enter new contact Name= ramesh\n",
      "Enter the Phone number = 9843\n",
      "\n",
      "The new added contact name is:   RAMESH\n",
      "Contact number of RAMESH is:  9843\n"
     ]
    }
   ],
   "source": [
    "#wap telephone entry\n",
    "tel_phone = 1\n",
    "while tel_phone<=2:\n",
    "    name = input(\"Enter new contact Name= \")\n",
    "    phone = input(\"Enter the Phone number = \")\n",
    "    print()\n",
    "    print(\"The new added contact name is:  \",name.upper())\n",
    "    print(\"Contact number of\" ,name.upper(), \"is: \", phone)\n",
    "    tel_phone = tel_phone+1\n",
    "\n"
   ]
  },
  {
   "cell_type": "markdown",
   "id": "012a22a0",
   "metadata": {},
   "source": []
  },
  {
   "cell_type": "raw",
   "id": "8b29b89d",
   "metadata": {},
   "source": []
  }
 ],
 "metadata": {
  "kernelspec": {
   "display_name": "Python 3 (ipykernel)",
   "language": "python",
   "name": "python3"
  },
  "language_info": {
   "codemirror_mode": {
    "name": "ipython",
    "version": 3
   },
   "file_extension": ".py",
   "mimetype": "text/x-python",
   "name": "python",
   "nbconvert_exporter": "python",
   "pygments_lexer": "ipython3",
   "version": "3.9.12"
  }
 },
 "nbformat": 4,
 "nbformat_minor": 5
}
