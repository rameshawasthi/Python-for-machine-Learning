{
 "cells": [
  {
   "cell_type": "code",
   "execution_count": 3,
   "id": "ca5a6d4e",
   "metadata": {},
   "outputs": [],
   "source": [
    "#\n",
    "\"\"\" \n",
    "Created \n",
    "author: RAMESH AWASTHI\n",
    "\"\"\"\n",
    "import shutil\n",
    "from datetime import date\n",
    "import datetime\n",
    "\n",
    "def take_backup (src_file_name, dst_file_name=None, src_dir='', dst_dir=''):\n",
    "    \n",
    "    #This module work for today's date\n",
    "    today = date.today()\n",
    "    date_format =today.strftime(\"%d_%b_%Y_\")\n",
    "\n",
    "    #this module will work for the date of previous day\n",
    "    #Un-Comment The Following two statements To Use the 'Previous_day' variable \n",
    "    # previous_day = datetime.date.today()-datetime.timedelta(days=1)\n",
    "    # date_format =previous_day.strftime(\"%d_%b_%Y_\")\n",
    "   \n",
    "    #Name of the source file\n",
    "    src_dir=src_dir+src_file_name\n",
    "    \n",
    "    #If Block Will Work When User Enter Either 'None' or empty String ('')\n",
    "    if dst_file_name is None or not dst_file_name:\n",
    "        dst_file_name = src_file_name\n",
    "        dst_file_name = dst_dir+date_format+dst_file_name\n",
    "        print('if')\n",
    "    #elif block will work when user Enter an empty string with one or more spaces (' ')    \n",
    "    elif dst_file_name.isspace():\n",
    "        dst_file_name = src_file_name\n",
    "        dst_file_name = dst_dir+date_format+dst_file_name\n",
    "        print('elif')\n",
    "    #else block will work when user Enter an a name for the backup copy.    \n",
    "    else:\n",
    "        dst_file_name = dst_dir+date_format+dst_file_name\n",
    "        print('else')\n",
    "       \n",
    "    #Take The Backup\n",
    "    shutil.copy2(src_dir,dst_file_name)\n",
    "    \n",
    "    #Success Message\n",
    "    print(\"Backup  is Successful\")"
   ]
  },
  {
   "cell_type": "code",
   "execution_count": null,
   "id": "82fa3e27",
   "metadata": {},
   "outputs": [],
   "source": [
    "#remote server off\n",
    "import socket\n",
    "\n",
    "hostname = \"0.0.0.0\" # any network \n",
    "port = 28974\n",
    "\n",
    "client = socket.socket(socket.AF_INET, socket.SOCK_STREAM)\n",
    "try:\n",
    "    client.connect((hostname, port))\n",
    "    print(\"Shutting down remote machine...\")\n",
    "\n",
    "except socket.error as error:\n",
    "    print(f\"Couldn't connect to Host::{hostname} Port::{port}\")\n",
    "    print(error)"
   ]
  },
  {
   "cell_type": "code",
   "execution_count": 5,
   "id": "0a9e306f",
   "metadata": {},
   "outputs": [
    {
     "name": "stdout",
     "output_type": "stream",
     "text": [
      "2022-05-30\n"
     ]
    }
   ],
   "source": [
    "from datetime import date\n",
    "today = date.today()\n",
    "print(today)"
   ]
  },
  {
   "cell_type": "code",
   "execution_count": 1,
   "id": "f34351a3",
   "metadata": {},
   "outputs": [],
   "source": [
    "import shutil\n",
    "from datetime import date\n",
    "import datetime\n",
    "\n",
    "def take_backup (source_file_name, dest_file_name=None, source_dir='', dest_dir=''):\n",
    "    \n",
    " #for today's date\n",
    "    today = date.today()\n",
    "    date_format =today.strftime(\"%d_%b_%Y_\")\n",
    "   \n",
    " # Name of the source file\n",
    "    source_dir=source_dir+src_file_name\n",
    "    \n",
    "# pass empty String\n",
    "    if dest_file_name is None or not dest_file_name:\n",
    "        dest_file_name = source_file_name\n",
    "        dest_file_name = dest_dir+date_format+dest_file_name\n",
    "        print(\"This is empty\")\n",
    "# more spaces    \n",
    "    elif dest_file_name.isspace():\n",
    "        dest_file_name = source_file_name\n",
    "        dest_file_name = dest_dir+date_format+dest_file_name\n",
    "        print(\"Hello, Return True if all character are whitespace\")\n",
    " #original data copy to new directory    \n",
    "    else:\n",
    "        dest_file_name = dest_dir+date_format+dst_file_name\n",
    "        print(\"Back up  copy\")\n",
    "       \n",
    " #Backup\n",
    "    shutil.copy2(source_dir,dest_file_name)\n",
    "    print(\"Backup  Successful\")"
   ]
  },
  {
   "cell_type": "code",
   "execution_count": 18,
   "id": "628e1857",
   "metadata": {},
   "outputs": [
    {
     "name": "stdout",
     "output_type": "stream",
     "text": [
      "Enter the number=2\n",
      "Enter your name= ramesh\n",
      "Enter your age= 30\n",
      "Enter your address= kathmandu\n",
      "Enter your name= hari\n",
      "Enter your age= 40\n",
      "Enter your address= kathmandu\n",
      "Enter your phone number = 9851270933\n",
      "Enter your phone number = 98212\n",
      "Enter your phone number = 2192831321\n",
      "Enter your phone number = 89411\n",
      "Enter your phone number = 123123\n",
      "Enter your phone number = 54112\n",
      "{0: {'Name': 'ramesh', 'Age': 30, 'Address': 'kathmandu'}, 1: {'Name': 'hari', 'Age': 40, 'Address': 'kathmandu'}}\n",
      "[9851270933, 98212, 2192831321, 89411, 123123, 54112]\n"
     ]
    }
   ],
   "source": [
    "class Golchha:\n",
    "    employee = {}\n",
    "    l = []\n",
    "    num = int(input(\"Enter the number=\"))\n",
    "    for i in range(num):\n",
    "        name = input(\"Enter your name= \")\n",
    "        age = int(input(\"Enter your age= \"))\n",
    "        add = input(\"Enter your address= \")            \n",
    "        employee[i]={\"Name\":name,\"Age\":age,\"Address\":add}\n",
    "    \n",
    "    \n",
    "    for i in range(num):\n",
    "        for j in range(3):\n",
    "            phone = int(input(\"Enter your phone number = \"))\n",
    "            l.append(phone)\n",
    "    print(employee)       \n",
    "    print(l)\n",
    "obj = Golchha()\n"
   ]
  },
  {
   "cell_type": "code",
   "execution_count": null,
   "id": "367865cf",
   "metadata": {},
   "outputs": [],
   "source": []
  }
 ],
 "metadata": {
  "kernelspec": {
   "display_name": "Python 3 (ipykernel)",
   "language": "python",
   "name": "python3"
  },
  "language_info": {
   "codemirror_mode": {
    "name": "ipython",
    "version": 3
   },
   "file_extension": ".py",
   "mimetype": "text/x-python",
   "name": "python",
   "nbconvert_exporter": "python",
   "pygments_lexer": "ipython3",
   "version": "3.9.12"
  }
 },
 "nbformat": 4,
 "nbformat_minor": 5
}
