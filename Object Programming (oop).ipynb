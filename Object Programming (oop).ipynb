{
 "cells": [
  {
   "cell_type": "code",
   "execution_count": null,
   "id": "7feae245",
   "metadata": {},
   "outputs": [],
   "source": [
    "# class , oject and method"
   ]
  },
  {
   "cell_type": "code",
   "execution_count": null,
   "id": "a1d4c75e",
   "metadata": {},
   "outputs": [],
   "source": [
    "class Hello:   #class#\n",
    "    pass"
   ]
  },
  {
   "cell_type": "code",
   "execution_count": null,
   "id": "c0ed7998",
   "metadata": {},
   "outputs": [],
   "source": [
    "obj = Hello() #Object initialize class"
   ]
  },
  {
   "cell_type": "code",
   "execution_count": 8,
   "id": "9ccd5294",
   "metadata": {},
   "outputs": [
    {
     "name": "stdout",
     "output_type": "stream",
     "text": [
      "hello World\n"
     ]
    }
   ],
   "source": [
    "class Hello:\n",
    "    print(\"hello World\")\n",
    "obj = Hello()"
   ]
  },
  {
   "cell_type": "code",
   "execution_count": 11,
   "id": "9a5b22e2",
   "metadata": {},
   "outputs": [
    {
     "name": "stdout",
     "output_type": "stream",
     "text": [
      "hello World\n"
     ]
    }
   ],
   "source": [
    "class Hello: #class\n",
    "    def hello(self): #method                 #static method and self type method  # parameter inside method -->\n",
    "        print(\"hello World\")         #self always first parameter\n",
    "\n",
    "obj = Hello() #object\n",
    "obj.hello()"
   ]
  },
  {
   "cell_type": "code",
   "execution_count": 13,
   "id": "3074f9b2",
   "metadata": {},
   "outputs": [
    {
     "name": "stdout",
     "output_type": "stream",
     "text": [
      "hello World\n"
     ]
    }
   ],
   "source": [
    "class Hello: \n",
    "    @staticmethod   #decorator\n",
    "    def hello(): #method                \n",
    "        print(\"hello World\")\n",
    "\n",
    "obj = Hello() #object\n",
    "obj.hello()"
   ]
  },
  {
   "cell_type": "code",
   "execution_count": 15,
   "id": "02ce5a45",
   "metadata": {},
   "outputs": [
    {
     "name": "stdout",
     "output_type": "stream",
     "text": [
      "hello World\n"
     ]
    }
   ],
   "source": [
    "class Hello: #class\n",
    "    @staticmethod   #decorator\n",
    "    def hello():          \n",
    "        print(\"hello World\")\n",
    "\n",
    "obj = Hello() #object\n",
    "obj.hello()"
   ]
  },
  {
   "cell_type": "code",
   "execution_count": 18,
   "id": "d61526ce",
   "metadata": {},
   "outputs": [
    {
     "name": "stdout",
     "output_type": "stream",
     "text": [
      "50\n",
      "100\n"
     ]
    }
   ],
   "source": [
    "class Cal:\n",
    "    @staticmethod\n",
    "    def area(l,b):\n",
    "        a = l*b\n",
    "        return a\n",
    "    @staticmethod\n",
    "    def volume(l,b,h):\n",
    "        v = l*b*h\n",
    "        return v\n",
    "obj = Cal()\n",
    "print(obj.area(10,5))\n",
    "print(obj.volume(10,5,2))"
   ]
  },
  {
   "cell_type": "code",
   "execution_count": 22,
   "id": "6d67b322",
   "metadata": {},
   "outputs": [
    {
     "name": "stdout",
     "output_type": "stream",
     "text": [
      "50\n",
      "100\n"
     ]
    }
   ],
   "source": [
    "class Cal:\n",
    "    def area(l,b):\n",
    "        a = l*b\n",
    "        return a\n",
    "    def volume(l,b,h):\n",
    "        v = l*b*h\n",
    "        return v\n",
    "obj = Cal\n",
    "print(obj.area(10,5))\n",
    "print(obj.volume(10,5,2))"
   ]
  },
  {
   "cell_type": "code",
   "execution_count": 36,
   "id": "eb0bf6cb",
   "metadata": {},
   "outputs": [
    {
     "name": "stdout",
     "output_type": "stream",
     "text": [
      "50\n",
      "100\n"
     ]
    }
   ],
   "source": [
    "class Cal:\n",
    "    def __init__(self,l,b,h):# constructor value pass through object to class to initialize\n",
    "        self.l = l\n",
    "        self.b = b    #attribute\n",
    "        self.h = h\n",
    "    def area(self):\n",
    "        a = self.l*self.b\n",
    "        return a\n",
    "    def volume(self):\n",
    "        v = self.l*self.b*self.h\n",
    "        return v\n",
    "\n",
    "obj = Cal(10,5,2)\n",
    "print(obj.area())\n",
    "print(obj.volume())"
   ]
  },
  {
   "cell_type": "code",
   "execution_count": 41,
   "id": "9849feed",
   "metadata": {},
   "outputs": [
    {
     "name": "stdout",
     "output_type": "stream",
     "text": [
      "50\n",
      "100\n"
     ]
    }
   ],
   "source": [
    "class Cal:\n",
    "    def __init__(self,l,b,h):\n",
    "        self.len = l\n",
    "        self.br = b    #attribute\n",
    "    def area(self):\n",
    "        a = self.len*self.br\n",
    "        return a\n",
    "    def volume(self,h):\n",
    "        v = self.len*self.br*h\n",
    "        return v\n",
    "obj = Cal(10,5,2)\n",
    "print(obj.area())\n",
    "print(obj.volume(2))"
   ]
  },
  {
   "cell_type": "code",
   "execution_count": 35,
   "id": "dcebb503",
   "metadata": {},
   "outputs": [
    {
     "name": "stdout",
     "output_type": "stream",
     "text": [
      "Enter the length = 10\n",
      "Enter the br= 10\n",
      "Enter the height= 10\n",
      "100\n",
      "1000\n"
     ]
    }
   ],
   "source": [
    "#write a program to input values from user and pass it to method and perform some operation\n",
    "\n",
    "class Cal:\n",
    "\n",
    "    def __init__(self,l,b,h):\n",
    "        self.l = l\n",
    "        self.b = b\n",
    "        self.h = h\n",
    "        \n",
    "    def area(self):\n",
    "        a = self.l*self.b\n",
    "        return a\n",
    "    def volume(self):\n",
    "        v = self.l*self.b*self.h\n",
    "        return v\n",
    "l = int(input(\"Enter the length = \"))\n",
    "b = int(input(\"Enter the br= \"))\n",
    "h = int(input(\"Enter the height= \"))   \n",
    "obj = Cal(l,b,h)\n",
    "print(obj.area())\n",
    "print(obj.volume())"
   ]
  },
  {
   "cell_type": "code",
   "execution_count": 42,
   "id": "d367acb7",
   "metadata": {},
   "outputs": [
    {
     "name": "stdout",
     "output_type": "stream",
     "text": [
      "Enter the length = 2\n",
      "Enter the br= 2\n",
      "Enter the height= 2\n"
     ]
    },
    {
     "ename": "NameError",
     "evalue": "name 'a' is not defined",
     "output_type": "error",
     "traceback": [
      "\u001b[1;31m---------------------------------------------------------------------------\u001b[0m",
      "\u001b[1;31mNameError\u001b[0m                                 Traceback (most recent call last)",
      "Input \u001b[1;32mIn [42]\u001b[0m, in \u001b[0;36m<cell line: 14>\u001b[1;34m()\u001b[0m\n\u001b[0;32m     12\u001b[0m h \u001b[38;5;241m=\u001b[39m \u001b[38;5;28mint\u001b[39m(\u001b[38;5;28minput\u001b[39m(\u001b[38;5;124m\"\u001b[39m\u001b[38;5;124mEnter the height= \u001b[39m\u001b[38;5;124m\"\u001b[39m))   \n\u001b[0;32m     13\u001b[0m obj \u001b[38;5;241m=\u001b[39m Cal()\n\u001b[1;32m---> 14\u001b[0m \u001b[38;5;28mprint\u001b[39m(\u001b[43ma\u001b[49m)\n\u001b[0;32m     15\u001b[0m \u001b[38;5;28mprint\u001b[39m(v)\n",
      "\u001b[1;31mNameError\u001b[0m: name 'a' is not defined"
     ]
    }
   ],
   "source": [
    "class Cal:\n",
    "        \n",
    "    def area():\n",
    "        a = l*b\n",
    "        return a\n",
    "    def volume():\n",
    "        v = l*b*h\n",
    "        return v\n",
    "        \n",
    "l = int(input(\"Enter the length = \"))\n",
    "b = int(input(\"Enter the br= \"))\n",
    "h = int(input(\"Enter the height= \"))   \n",
    "obj = Cal()\n",
    "\n",
    "print(obj.area())\n",
    "print(obj.volume())"
   ]
  },
  {
   "cell_type": "code",
   "execution_count": 4,
   "id": "2dce410d",
   "metadata": {},
   "outputs": [
    {
     "name": "stdout",
     "output_type": "stream",
     "text": [
      "Enter your name : ram\n",
      "Enter your age: 34\n",
      "Enter your address : kath\n",
      "ram\n",
      "Hello world i am ram. I am  fromkath. I am 34\n",
      "<class '__main__.Info'>\n",
      "<class 'str'>\n"
     ]
    }
   ],
   "source": [
    "class  Info:\n",
    "    def __init__(self,name,age,add):\n",
    "        self.name = name\n",
    "        self.age = age\n",
    "        self.add = add\n",
    "    def info(self):\n",
    "        return f\"Hello world i am {self.name}. I am  from {self.add}. I am { self.age}\"\n",
    "        #return self.name\n",
    "    def __str__(self):                 # str use for return values in class , str return value not data type return as object\n",
    "        return self.name\n",
    "    \n",
    "    \n",
    "name = input(\"Enter your name : \")\n",
    "age = int(input(\"Enter your age: \"))\n",
    "add = input(\"Enter your address : \")\n",
    "\n",
    "obj = Info(name,age,add)\n",
    "print(obj)\n",
    "print(obj.info())\n",
    "\n",
    "print(type(obj))\n",
    "print(type(obj.info()))\n",
    "\n",
    "print(obj.__str__()) # str only return string data type ,not other data type(int,float)\n",
    "print(str(obj))\n"
   ]
  },
  {
   "cell_type": "code",
   "execution_count": 28,
   "id": "e373c3f7",
   "metadata": {},
   "outputs": [
    {
     "name": "stdout",
     "output_type": "stream",
     "text": [
      "50\n",
      "100\n"
     ]
    }
   ],
   "source": [
    "class Area:\n",
    "    def __init__(self,l,b):\n",
    "        self.l = l\n",
    "        self.b = b    #attribute\n",
    "        self.hig = h\n",
    "    def area(self):\n",
    "        a = self.l*self.b\n",
    "        return a\n",
    "class Volume:\n",
    "    def __init__(self,l,b,h):\n",
    "        self.l = l\n",
    "        self.b = b    \n",
    "        self.h = h\n",
    "    def volume(self):\n",
    "        v = self.l*self.b*self.h\n",
    "        return v\n",
    "obj1 = Area(10,5)\n",
    "obj2 = Volume(10,5,2)\n",
    "print(obj1.area())\n",
    "print(obj2.volume())"
   ]
  },
  {
   "cell_type": "code",
   "execution_count": 30,
   "id": "6c61c80c",
   "metadata": {},
   "outputs": [
    {
     "name": "stdout",
     "output_type": "stream",
     "text": [
      "50\n",
      "100\n"
     ]
    }
   ],
   "source": [
    "class Area:\n",
    "    def __init__(self,l,b):\n",
    "        self.l = l\n",
    "        self.b = b    #attribute\n",
    "    def area(self):\n",
    "        a = self.l*self.b\n",
    "        return a\n",
    "class Volume:\n",
    "    def __init__(self,l,b):\n",
    "        self.l = l\n",
    "        self.b = b\n",
    "        #self.h = h\n",
    "    def volume(self,h):\n",
    "        v = self.l*self.b*h\n",
    "        return v\n",
    "obj1 = Area(10,5)\n",
    "obj2 = Volume(10,5)\n",
    "print(obj1.area())\n",
    "print(obj2.volume(2))"
   ]
  },
  {
   "cell_type": "code",
   "execution_count": null,
   "id": "d28e1789",
   "metadata": {},
   "outputs": [],
   "source": [
    "#Inheritance OOP\n",
    "class A:\n",
    "    pass\n",
    "class B(A):\n",
    "    pass\n",
    "obj = B()"
   ]
  },
  {
   "cell_type": "code",
   "execution_count": 1,
   "id": "988b05ce",
   "metadata": {},
   "outputs": [
    {
     "name": "stdout",
     "output_type": "stream",
     "text": [
      "Enter name = ramesh\n",
      "Enter address = kathmandu\n",
      "Hello World I ma ramesh. I am from kathmandu\n"
     ]
    }
   ],
   "source": [
    "class Info:    #parent class\n",
    "    def __init__(self):\n",
    "        self.name = input(\"Enter name = \")\n",
    "        self.add = input(\"Enter address = \")\n",
    "class Data(Info): # child class\n",
    "    def data(self):\n",
    "        print(f\"Hello World I ma {self.name}. I am from {self.add}\")\n",
    "obj = Data()\n",
    "obj.data()"
   ]
  },
  {
   "cell_type": "code",
   "execution_count": 2,
   "id": "6b0e77fb",
   "metadata": {},
   "outputs": [
    {
     "name": "stdout",
     "output_type": "stream",
     "text": [
      "Enter name = ramesh\n",
      "Enter address = kathmandu\n",
      "Hello World I ma ramesh. I am from kathmandu\n",
      "ramesh\n",
      "kathmandu\n"
     ]
    }
   ],
   "source": [
    "class Info:    #parent class\n",
    "    def __init__(self):\n",
    "        self.name = input(\"Enter name = \")        \n",
    "        self.add = input(\"Enter address = \")\n",
    "class Data(Info): # child class\n",
    "    def data(self):\n",
    "        print(f\"Hello World I ma {self.name}. I am from {self.add}\")\n",
    "obj = Data()\n",
    "obj.data()\n",
    "print(obj.name) #out side class value call\n",
    "print(obj.add)"
   ]
  },
  {
   "cell_type": "code",
   "execution_count": 3,
   "id": "f6a5da33",
   "metadata": {},
   "outputs": [
    {
     "name": "stdout",
     "output_type": "stream",
     "text": [
      "Enter name = ramesh\n",
      "Enter address = kathmandu\n",
      "Hello World I ma ramesh. I am from kathmandu\n"
     ]
    }
   ],
   "source": [
    "class Info:    #parent class\n",
    "    def __init__(self,name,add):\n",
    "        self.name = name\n",
    "        self.add = add\n",
    "        \n",
    "class Data(Info): # child class\n",
    "    def data(self):\n",
    "        print(f\"Hello World I ma {self.name}. I am from {self.add}\")\n",
    "name = input(\"Enter name = \")\n",
    "add = input(\"Enter address = \")\n",
    "obj = Data(name,add)\n",
    "obj.data()"
   ]
  },
  {
   "cell_type": "code",
   "execution_count": 4,
   "id": "d588f838",
   "metadata": {},
   "outputs": [
    {
     "name": "stdout",
     "output_type": "stream",
     "text": [
      "Enter your name= ramesh\n",
      "Enter your add= kathmandu\n",
      "Hello World I ma ramesh. I am from kathmandu\n",
      "Hello  I am from kathmandu\n",
      "ramesh\n",
      "kathmandu\n"
     ]
    }
   ],
   "source": [
    "class Info:    \n",
    "    def __init__(self,add,phone):\n",
    "        self.add = add\n",
    "        self.phone = phone\n",
    "    def info(self):\n",
    "        print(f\"Hello  I am from {self.add}\")\n",
    "        \n",
    "class Data(Info): \n",
    "    def __init__(self,name,add,phone):\n",
    "        self.name = name\n",
    "        Info.__init__(self,add,phone)\n",
    "    def data(self):\n",
    "        print(f\"Hello World I ma {self.name}. I am from {self.add}. My phone number is {phone}\")\n",
    "name = input(\"Enter your name= \")\n",
    "add = input(\"Enter your add= \")\n",
    "phone int(input(\"Enter your phone = \"))\n",
    "\n",
    "obj = Data(name,add)\n",
    "obj.data()\n",
    "obj.info() #  we can use different object\n",
    "print(obj.name)\n",
    "print(obj.add)"
   ]
  },
  {
   "cell_type": "code",
   "execution_count": 8,
   "id": "fd9f18a8",
   "metadata": {},
   "outputs": [
    {
     "name": "stdout",
     "output_type": "stream",
     "text": [
      "Enter your name= ramesh\n",
      "Enter your add= kathmandu\n",
      "Enter your phone = 938232\n",
      "Hello World I ma ramesh. I am from kathmandu. My phone number is 938232\n",
      "Hello  I am from kathmandu. My phone no is 938232\n",
      "ramesh\n",
      "kathmandu\n",
      "Hello  I am from Kathmandu. My phone no is 938232\n"
     ]
    }
   ],
   "source": [
    "class Info:    \n",
    "    def __init__(self,add,phone):\n",
    "        self.add = add\n",
    "        self.phone = phone\n",
    "    def info(self):\n",
    "        print(f\"Hello  I am from {self.add}. My phone no is {phone}\")\n",
    "        \n",
    "class Data(Info): \n",
    "    def __init__(self,name,add,phone):\n",
    "        self.name = name\n",
    "        Info.__init__(self,add,phone)\n",
    "    def data(self):\n",
    "        print(f\"Hello World I am {self.name}. I am from {self.add}. My phone number is {phone}\")\n",
    "name = input(\"Enter your name= \")\n",
    "add = input(\"Enter your add= \")\n",
    "phone = int(input(\"Enter your phone = \"))\n",
    "\n",
    "obj = Data(name,add,phone)\n",
    "obj.data()\n",
    "obj.info() \n",
    "print(obj.name)\n",
    "print(obj.add)\n",
    "obj1 = Info(\"Kathmandu\",983233903) # we can also send value another object\n",
    "calobj1.info()"
   ]
  },
  {
   "cell_type": "code",
   "execution_count": 10,
   "id": "acbf7f3d",
   "metadata": {},
   "outputs": [
    {
     "ename": "SyntaxError",
     "evalue": "invalid syntax (4217666154.py, line 3)",
     "output_type": "error",
     "traceback": [
      "\u001b[1;36m  Input \u001b[1;32mIn [10]\u001b[1;36m\u001b[0m\n\u001b[1;33m    def__init__(self,phone):\u001b[0m\n\u001b[1;37m                            ^\u001b[0m\n\u001b[1;31mSyntaxError\u001b[0m\u001b[1;31m:\u001b[0m invalid syntax\n"
     ]
    }
   ],
   "source": [
    "#multi level inheretance\n",
    "class Contact:\n",
    "    def__init__(self,phone):\n",
    "        self.phone = phone\n",
    "\n",
    "class Info(Contact):    \n",
    "    def __init__(self,add,phone):\n",
    "        self.add = add\n",
    "        Contact.__init__(self,phone)\n",
    "    def info(self):\n",
    "        print(f\"Hello  I am from {self.add}\")\n",
    "        \n",
    "class Data(Info): \n",
    "    def __init__(self,name,add,phone):\n",
    "        self.name = name\n",
    "        Info.__init__(self,add,phone)\n",
    "    def data(self):\n",
    "        print(f\"Hello World I ma {self.name}. I am from {self.add}. My phone number is {phone}\")\n",
    "name = input(\"Enter your name= \")\n",
    "add = input(\"Enter your add= \")\n",
    "phone int(input(\"Enter your phone = \"))\n",
    "\n",
    "obj = Data(name,add,phone)\n",
    "obj.data()\n",
    "obj.info()"
   ]
  },
  {
   "cell_type": "code",
   "execution_count": 12,
   "id": "2dded544",
   "metadata": {},
   "outputs": [
    {
     "name": "stdout",
     "output_type": "stream",
     "text": [
      "Enter your name= ramesh\n",
      "Enter your add= kathmandu\n",
      "Enter your phone = 988332\n",
      "Hello World I ma ramesh. I am from kathmandu. My phone number is 988332\n",
      "Hello  I am from kathmandu\n"
     ]
    }
   ],
   "source": [
    "#multiple Inheritance\n",
    "class Contact:\n",
    "    def __init__(self,phone):\n",
    "        self.phone = phone\n",
    "\n",
    "class Info:    \n",
    "    def __init__(self,add):\n",
    "        self.add = add\n",
    "    def info(self):\n",
    "        print(f\"Hello  I am from {self.add}\")\n",
    "        \n",
    "class Data(Info,Contact): \n",
    "    def __init__(self,name,add,phone):\n",
    "        self.name = name\n",
    "        Info.__init__(self,add)\n",
    "        Contact.__init__(self,phone)\n",
    "    def data(self):\n",
    "        print(f\"Hello World I ma {self.name}. I am from {self.add}. My phone number is {phone}\")\n",
    "name = input(\"Enter your name= \")\n",
    "add = input(\"Enter your add= \")\n",
    "phone = int(input(\"Enter your phone = \"))\n",
    "\n",
    "obj = Data(name,add,phone)\n",
    "obj.data()\n",
    "obj.info()"
   ]
  },
  {
   "cell_type": "code",
   "execution_count": null,
   "id": "e122fd2d",
   "metadata": {},
   "outputs": [],
   "source": [
    "#Encapsulation\n",
    "#private\n",
    "#protected\n",
    "#public\n",
    "#data"
   ]
  },
  {
   "cell_type": "code",
   "execution_count": 1,
   "id": "b68b7394",
   "metadata": {},
   "outputs": [
    {
     "name": "stdout",
     "output_type": "stream",
     "text": [
      "Ram\n",
      "34\n",
      "Kathmandu\n"
     ]
    }
   ],
   "source": [
    "#public attributes\n",
    "class Info:\n",
    "    def __init__(self,name,age,add):\n",
    "        self.name = name\n",
    "        self.age = age\n",
    "        self.add = add\n",
    "obj = Info(\"Ram\",34,\"Kathmandu\")\n",
    "print(obj.name)\n",
    "print(obj.age)\n",
    "print(obj.add)"
   ]
  },
  {
   "cell_type": "code",
   "execution_count": 2,
   "id": "69421d72",
   "metadata": {},
   "outputs": [
    {
     "name": "stdout",
     "output_type": "stream",
     "text": [
      "Ram\n",
      "34\n",
      "Kathmandu\n"
     ]
    }
   ],
   "source": [
    "#Protected attributes\n",
    "class Info:\n",
    "    def __init__(self,name,age,add):\n",
    "        self._name = name\n",
    "        self._age = age\n",
    "        self._add = add\n",
    "obj = Info(\"Ram\",34,\"Kathmandu\")\n",
    "print(obj._name)\n",
    "print(obj._age)\n",
    "print(obj._add)"
   ]
  },
  {
   "cell_type": "code",
   "execution_count": 3,
   "id": "f226eb90",
   "metadata": {},
   "outputs": [
    {
     "ename": "AttributeError",
     "evalue": "'Info' object has no attribute '__name'",
     "output_type": "error",
     "traceback": [
      "\u001b[1;31m---------------------------------------------------------------------------\u001b[0m",
      "\u001b[1;31mAttributeError\u001b[0m                            Traceback (most recent call last)",
      "Input \u001b[1;32mIn [3]\u001b[0m, in \u001b[0;36m<cell line: 8>\u001b[1;34m()\u001b[0m\n\u001b[0;32m      6\u001b[0m         \u001b[38;5;28mself\u001b[39m\u001b[38;5;241m.\u001b[39m__add \u001b[38;5;241m=\u001b[39m add\n\u001b[0;32m      7\u001b[0m obj \u001b[38;5;241m=\u001b[39m Info(\u001b[38;5;124m\"\u001b[39m\u001b[38;5;124mRam\u001b[39m\u001b[38;5;124m\"\u001b[39m,\u001b[38;5;241m34\u001b[39m,\u001b[38;5;124m\"\u001b[39m\u001b[38;5;124mKathmandu\u001b[39m\u001b[38;5;124m\"\u001b[39m)\n\u001b[1;32m----> 8\u001b[0m \u001b[38;5;28mprint\u001b[39m(\u001b[43mobj\u001b[49m\u001b[38;5;241;43m.\u001b[39;49m\u001b[43m__name\u001b[49m)\n\u001b[0;32m      9\u001b[0m \u001b[38;5;28mprint\u001b[39m(obj\u001b[38;5;241m.\u001b[39m__age)\n\u001b[0;32m     10\u001b[0m \u001b[38;5;28mprint\u001b[39m(obj\u001b[38;5;241m.\u001b[39m__add)\n",
      "\u001b[1;31mAttributeError\u001b[0m: 'Info' object has no attribute '__name'"
     ]
    }
   ],
   "source": [
    "#private attributes\n",
    "class Info:\n",
    "    def __init__(self,name,age,add):\n",
    "        self.__name = name\n",
    "        self.__age = age\n",
    "        self.__add = add\n",
    "obj = Info(\"Ram\",34,\"Kathmandu\")\n",
    "print(obj.__name)\n",
    "print(obj.__age)  #no access program does not run \n",
    "print(obj.__add)"
   ]
  },
  {
   "cell_type": "code",
   "execution_count": 7,
   "id": "ac354fbc",
   "metadata": {},
   "outputs": [
    {
     "name": "stdout",
     "output_type": "stream",
     "text": [
      "Enter your name= ramesh\n",
      "Enter your add= kathmandu\n",
      "I am from kathmandu\n",
      "kathmandu\n"
     ]
    }
   ],
   "source": [
    "class Info:    #parent class\n",
    "    def __init__(self,name,add):\n",
    "        self.__name = name\n",
    "        self._add = add\n",
    "    def info(self):\n",
    "        print(f\"Hello I am {self.__name}. I am from {self._add}\")\n",
    "        \n",
    "class Data(Info):\n",
    "    def data(self):\n",
    "        print(f\"I am from {self._add}\")\n",
    "\n",
    "name = input(\"Enter your name= \")\n",
    "add = input(\"Enter your add= \")\n",
    "obj = Data(name,add)\n",
    "obj.data()\n",
    "print(obj._add)"
   ]
  },
  {
   "cell_type": "code",
   "execution_count": 9,
   "id": "dd339b08",
   "metadata": {},
   "outputs": [
    {
     "name": "stdout",
     "output_type": "stream",
     "text": [
      "Enter your name= ramesh\n",
      "Enter your add= kathmadu\n",
      "Enter your phone = 323231\n",
      "Hello World I am ramesh. I am from kathmadu. My phone number is 323231\n"
     ]
    }
   ],
   "source": [
    "class Contact:\n",
    "    def __init__(self,phone):\n",
    "        self._phone = phone\n",
    "\n",
    "class Info:    \n",
    "    def __init__(self,add):\n",
    "        self._add = add\n",
    "    def info(self):\n",
    "        print(f\"Hello  I am from {self._add}\")\n",
    "        \n",
    "class Data(Info,Contact): \n",
    "    def __init__(self,name,add,phone):\n",
    "        self.__name = name\n",
    "        Info.__init__(self,add)\n",
    "        Contact.__init__(self,phone)\n",
    "    def data(self):\n",
    "        print(f\"Hello World I am {self.__name}. I am from {self._add}. My phone number is {self._phone}\")\n",
    "name = input(\"Enter your name= \")\n",
    "add = input(\"Enter your add= \")\n",
    "phone = int(input(\"Enter your phone = \"))\n",
    "\n",
    "obj = Data(name,add,phone)\n",
    "obj.data()\n",
    "obj.info()"
   ]
  },
  {
   "cell_type": "code",
   "execution_count": null,
   "id": "0f49d563",
   "metadata": {},
   "outputs": [],
   "source": [
    "class Info:    #parent class\n",
    "    def __init__(self,name,add):\n",
    "        self.__name = input(\"Enter your name= \")\n",
    "        self._add = input(\"Enter your add= \")\n",
    "    def info(self):\n",
    "        print(f\"Hello I am {self.__name}. I am from {self._add}\")\n",
    "        \n",
    "class Data(Info):\n",
    "    def call_data(self)\n",
    "      super().data()\n",
    "\n",
    "\n",
    "obj = Data()\n",
    "obj.call_data\n",
    "print(obj.name)\n",
    "print(obj._add)"
   ]
  },
  {
   "cell_type": "code",
   "execution_count": null,
   "id": "b5c1e1d9",
   "metadata": {},
   "outputs": [],
   "source": [
    "#poliphormishm --> two class with same type of function--"
   ]
  },
  {
   "cell_type": "code",
   "execution_count": null,
   "id": "8ecdfcc9",
   "metadata": {},
   "outputs": [],
   "source": [
    "class Parrot:\n",
    "    def fly(self):\n",
    "        print(\"Parrot can fly\")\n",
    "    def swim(self):\n",
    "        print(\"parrot can not swim\")\n",
    "class Penguin:\n",
    "    def fly(self):\n",
    "        print(\"penguin can fly\")\n",
    "    def swim(self):\n",
    "        print(\"penguin can not swim\")\n",
    "#common interface\n",
    "def flying_test(bird):\n",
    "    bird.fly()\n",
    "#instantiate object\n",
    "blu = Parror() \n",
    "peggy = Penguin()\n",
    "#passing the object\n",
    "flying_test(blue)\n",
    "flying_test(peggy)\n",
    "        "
   ]
  },
  {
   "cell_type": "code",
   "execution_count": null,
   "id": "5d8ae6ca",
   "metadata": {},
   "outputs": [],
   "source": []
  }
 ],
 "metadata": {
  "kernelspec": {
   "display_name": "Python 3 (ipykernel)",
   "language": "python",
   "name": "python3"
  },
  "language_info": {
   "codemirror_mode": {
    "name": "ipython",
    "version": 3
   },
   "file_extension": ".py",
   "mimetype": "text/x-python",
   "name": "python",
   "nbconvert_exporter": "python",
   "pygments_lexer": "ipython3",
   "version": "3.9.12"
  },
  "widgets": {
   "application/vnd.jupyter.widget-state+json": {
    "state": {},
    "version_major": 2,
    "version_minor": 0
   }
  }
 },
 "nbformat": 4,
 "nbformat_minor": 5
}
