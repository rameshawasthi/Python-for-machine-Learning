{
 "cells": [
  {
   "cell_type": "code",
   "execution_count": null,
   "id": "d74062b3",
   "metadata": {},
   "outputs": [],
   "source": [
    "import mysql.connector\n",
    "\n",
    "database=mysql.connector.connect(\n",
    "    host=\"localhost\",\n",
    "    user=\"root\",\n",
    "    password=\"\",)= \n",
    "  database = \"database name e.g test\"\n",
    ")\n",
    "db = database.cursor()\n",
    "    "
   ]
  },
  {
   "cell_type": "code",
   "execution_count": null,
   "id": "ab406baa",
   "metadata": {},
   "outputs": [],
   "source": [
    "#reading from database\n",
    "#sql = \"SELECT * FROM student\"\n",
    "#db.execute(sql) or \n",
    "\n",
    "db.execute(\"SELECT * table name\")\n",
    "result = db.fectchall()\n",
    "for x in result:\n",
    "    print(x)"
   ]
  },
  {
   "cell_type": "code",
   "execution_count": null,
   "id": "2b9cb0de",
   "metadata": {},
   "outputs": [],
   "source": [
    "#select\n",
    "data = []\n",
    "db.execute(\"SELECT * table name\")\n",
    "db.execute(sql)\n",
    "result = db.fectchall()\n",
    "for x in result:\n",
    "    data.append(x)\n",
    "data"
   ]
  },
  {
   "cell_type": "code",
   "execution_count": null,
   "id": "a4086978",
   "metadata": {},
   "outputs": [],
   "source": [
    "#insert data in database\n",
    "sql = '''INSERT INTO student (name,physics,chemistry,math,total)\n",
    "VALUES('Nabin',89,98,78,23,300)'''\n",
    "db.excute(sql)\n",
    "database.commit() # change in database"
   ]
  },
  {
   "cell_type": "code",
   "execution_count": null,
   "id": "f4ab8bbf",
   "metadata": {},
   "outputs": [],
   "source": [
    "# for single user input\n",
    "name = input(\"Enter name = \")\n",
    "physics = int(input(\"Enter physics marks = \"))\n",
    "chemistry = int(input(\"Enter chemistry marks = \"))\n",
    "math = int(input(\"Enter math marks = \"))\n",
    "total = physics + chemistry + math\n",
    "sql = f\"INSERT INTO student (name,physics,chemistry,math,toal) VALUE('{name},{physics},{chemistry},{math},{total}')\"\n",
    "db.execute(sql)\n",
    "database.commit()\n",
    "      "
   ]
  },
  {
   "cell_type": "code",
   "execution_count": null,
   "id": "8831994f",
   "metadata": {},
   "outputs": [],
   "source": [
    "#for multiple user input data\n",
    "n = int(input(\"Enter the number = \"))\n",
    "for i in range(n):\n",
    "    name = input(\"Enter name = \")\n",
    "    physics = int(input(\"Enter physics marks = \"))\n",
    "    chemistry = int(input(\"Enter chemistry marks = \"))\n",
    "    math = int(input(\"Enter math marks = \"))\n",
    "    total = physics + chemistry + math\n",
    "    sql = f\"INSERT INTO student (name,physics,chemistry,math,toal) VALUE('{name}',{physics},{chemistry},{math},{total})\"\n",
    "    db.execute(sql)\n",
    "database.commit()\n",
    "#'{name}' -- string"
   ]
  },
  {
   "cell_type": "code",
   "execution_count": null,
   "id": "82a390cf",
   "metadata": {},
   "outputs": [],
   "source": [
    "#update user information using python \n",
    "sql = \"UPDATE  *table name* SET name = 'Rose' WHERE sn = 3\"\n",
    "db.execute(sql)\n",
    "database.commit()"
   ]
  },
  {
   "cell_type": "code",
   "execution_count": null,
   "id": "7070b376",
   "metadata": {},
   "outputs": [],
   "source": [
    "# user input\n",
    "name = input(\"Enter your name: \")\n",
    "sn = int(input(\"Enter SN: \"))\n",
    "sql = f\"UPDATE *table name* SET name = '{name}' WHERE sn = {sn}\"\n",
    "db.execute(sql)\n",
    "database.commit()"
   ]
  },
  {
   "cell_type": "code",
   "execution_count": null,
   "id": "4a4b7eda",
   "metadata": {},
   "outputs": [],
   "source": [
    "#delete  operation \n",
    "# user input\n",
    "name = input(\"Enter your name: \")\n",
    "sn = int(input(\"Enter SN: \"))\n",
    "sql = f\"DELETE *table name* SET name = '{name}' WHERE sn = {sn}\"\n",
    "db.execute(sql)\n",
    "database.commit()"
   ]
  },
  {
   "cell_type": "code",
   "execution_count": null,
   "id": "148c6494",
   "metadata": {},
   "outputs": [],
   "source": [
    "#sql = \"DELETE from student WHERE sn = 1\"\n",
    "#db.execute(sql)\n",
    "#database.commit()"
   ]
  },
  {
   "cell_type": "code",
   "execution_count": null,
   "id": "b9b82c83",
   "metadata": {},
   "outputs": [],
   "source": [
    "#wap input from user 1 for insert 2 for select 3 for update 4 for delete\n"
   ]
  }
 ],
 "metadata": {
  "kernelspec": {
   "display_name": "Python 3 (ipykernel)",
   "language": "python",
   "name": "python3"
  },
  "language_info": {
   "codemirror_mode": {
    "name": "ipython",
    "version": 3
   },
   "file_extension": ".py",
   "mimetype": "text/x-python",
   "name": "python",
   "nbconvert_exporter": "python",
   "pygments_lexer": "ipython3",
   "version": "3.9.12"
  }
 },
 "nbformat": 4,
 "nbformat_minor": 5
}
