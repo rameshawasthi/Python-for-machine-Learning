{
 "cells": [
  {
   "cell_type": "code",
   "execution_count": null,
   "metadata": {
    "id": "WHOcAS96usb0"
   },
   "outputs": [],
   "source": [
    "# tuple\n",
    "# -Indexed\n",
    "# -Ordered\n",
    "# -Duplicate and multiple values\n",
    "# -Imutable"
   ]
  },
  {
   "cell_type": "code",
   "execution_count": null,
   "metadata": {
    "id": "YXaUtSmousb5",
    "outputId": "511eb00a-d866-47ae-fc6f-11f16abe35ae"
   },
   "outputs": [
    {
     "name": "stdout",
     "output_type": "stream",
     "text": [
      "<class 'tuple'>\n",
      "<class 'tuple'>\n",
      "(1, 2, 3, 4)\n",
      "('Apple', 'Ball', 'Cat', 'Dog')\n"
     ]
    }
   ],
   "source": [
    "a = (1,2,3,4)\n",
    "b = (\"Apple\",\"Ball\",\"Cat\",\"Dog\")\n",
    "print(type(a))\n",
    "print(type(b))\n",
    "print(a)\n",
    "print(b)"
   ]
  },
  {
   "cell_type": "code",
   "execution_count": null,
   "metadata": {
    "id": "8Pxg4aRFusb6",
    "outputId": "0d0af04c-2352-4841-eea5-29de68482fc7"
   },
   "outputs": [
    {
     "name": "stdout",
     "output_type": "stream",
     "text": [
      "Apple\n"
     ]
    }
   ],
   "source": [
    "b = (\"Apple\",\"Ball\",\"Cat\",\"Dog\")\n",
    "print(b[0])"
   ]
  },
  {
   "cell_type": "code",
   "execution_count": null,
   "metadata": {
    "id": "JgBFPanXusb7",
    "outputId": "d13a5b73-2b26-4dc0-ec93-4d2d7b9f64fc"
   },
   "outputs": [
    {
     "name": "stdout",
     "output_type": "stream",
     "text": [
      "('Apple', 'Ball')\n"
     ]
    }
   ],
   "source": [
    "b = (\"Apple\",\"Ball\",\"Cat\",\"Dog\")\n",
    "print(b[0:2])"
   ]
  },
  {
   "cell_type": "code",
   "execution_count": null,
   "metadata": {
    "id": "GtEFH_G-usb8",
    "outputId": "57a363d3-954d-4b2c-9689-e022854ec6e2"
   },
   "outputs": [
    {
     "name": "stdout",
     "output_type": "stream",
     "text": [
      "(1, 2, 3, 4, 5, 'Apple', 'Ball', 'Cat', 'Dog')\n"
     ]
    }
   ],
   "source": [
    "b = (\"Apple\",\"Ball\",\"Cat\",\"Dog\")\n",
    "a = (1,2,3,4,5)\n",
    "c = a+b\n",
    "print(c)"
   ]
  },
  {
   "cell_type": "code",
   "execution_count": null,
   "metadata": {
    "id": "ZsvEwUsBusb9",
    "outputId": "48cb8d17-bfba-4bca-9dd2-fff42ea9da48"
   },
   "outputs": [
    {
     "data": {
      "text/plain": [
       "('Apple', 'Ball', 'Cat', 'Dog', 'Apple')"
      ]
     },
     "execution_count": 7,
     "metadata": {},
     "output_type": "execute_result"
    }
   ],
   "source": [
    "b = (\"Apple\",\"Ball\",\"Cat\",\"Dog\",\"Apple\",)\n",
    "b"
   ]
  },
  {
   "cell_type": "code",
   "execution_count": null,
   "metadata": {
    "id": "0Ngt_keOusb9",
    "outputId": "54aa0f58-228e-41ca-a3aa-e6a8c3bfee49"
   },
   "outputs": [
    {
     "name": "stdout",
     "output_type": "stream",
     "text": [
      "(1,)\n",
      "<class 'tuple'>\n"
     ]
    }
   ],
   "source": [
    "a = (1,)\n",
    "print(a)\n",
    "print(type(a))"
   ]
  },
  {
   "cell_type": "code",
   "execution_count": null,
   "metadata": {
    "id": "EGalhPmnusb-",
    "outputId": "d9183afd-31ce-4bdb-c4ad-a182e0621114"
   },
   "outputs": [
    {
     "data": {
      "text/plain": [
       "tuple"
      ]
     },
     "execution_count": 12,
     "metadata": {},
     "output_type": "execute_result"
    }
   ],
   "source": [
    "b = (\"Apple\",)\n",
    "type(b)"
   ]
  },
  {
   "cell_type": "code",
   "execution_count": null,
   "metadata": {
    "id": "_wAwnMwwusb_"
   },
   "outputs": [],
   "source": [
    "# No append() insert() extend()\n",
    "# No update\n",
    "# No delete or remove or pop\n",
    "# No sort()"
   ]
  },
  {
   "cell_type": "code",
   "execution_count": null,
   "metadata": {
    "id": "-RfV35IluscD",
    "outputId": "6cc4f3fb-46c4-43d2-ecfa-67667bc3f17b"
   },
   "outputs": [
    {
     "data": {
      "text/plain": [
       "('Apple', 'Ball')"
      ]
     },
     "execution_count": 16,
     "metadata": {},
     "output_type": "execute_result"
    }
   ],
   "source": [
    "a = ()\n",
    "b = (\"Apple\",)\n",
    "c = (\"Ball\",)\n",
    "a = a+b+c\n",
    "a"
   ]
  },
  {
   "cell_type": "code",
   "execution_count": 1,
   "metadata": {
    "id": "wha0Fwt3uscE",
    "outputId": "f8c7a2a2-ed33-4f97-fe51-b5e662415414"
   },
   "outputs": [
    {
     "name": "stdout",
     "output_type": "stream",
     "text": [
      "Enter n = 4\n",
      "Enter x = 3\n",
      "Enter x = 3\n",
      "Enter x = 2\n",
      "Enter x = 3\n",
      "(3, 3, 2, 3)\n"
     ]
    }
   ],
   "source": [
    "a = ()\n",
    "n = int(input(\"Enter n = \"))\n",
    "for i in range(n):\n",
    "    x = int(input(\"Enter x = \"))\n",
    "    a = a+(x,)\n",
    "    \n",
    "print(a)"
   ]
  },
  {
   "cell_type": "markdown",
   "metadata": {
    "id": "xToia8SyuscF",
    "outputId": "b997406b-0ba2-4ab6-d186-0cd4a4085f97"
   },
   "source": [
    "a = ('Apple', 'Ball', 'Cat', 'Dog', 'Apple')\n",
    "a = list(a)\n",
    "a"
   ]
  },
  {
   "cell_type": "code",
   "execution_count": null,
   "metadata": {
    "id": "mg7ZEh2AuscF",
    "outputId": "e7409981-75e2-4162-bb1d-9f73511565cd"
   },
   "outputs": [
    {
     "data": {
      "text/plain": [
       "('Apple', 'Ball', 'Cat', 'Dog', 'Apple')"
      ]
     },
     "execution_count": 20,
     "metadata": {},
     "output_type": "execute_result"
    }
   ],
   "source": [
    "a = ['Apple', 'Ball', 'Cat', 'Dog', 'Apple']\n",
    "a = tuple(a)\n",
    "a"
   ]
  },
  {
   "cell_type": "code",
   "execution_count": null,
   "metadata": {
    "id": "1MogzGNZuscG",
    "outputId": "7c89f738-031a-45be-e711-620ca51a0651"
   },
   "outputs": [
    {
     "data": {
      "text/plain": [
       "('Ball', 'Cat', 'Dog', 'Apple')"
      ]
     },
     "execution_count": 22,
     "metadata": {},
     "output_type": "execute_result"
    }
   ],
   "source": [
    "a = ('Apple', 'Ball', 'Cat', 'Dog', 'Apple')\n",
    "a = list(a)\n",
    "del a[0]\n",
    "a = tuple(a)\n",
    "a"
   ]
  },
  {
   "cell_type": "code",
   "execution_count": null,
   "metadata": {
    "id": "uNzIyplcuscH",
    "outputId": "99c07d96-6249-4a52-cdcd-4a9a6ffc834c"
   },
   "outputs": [
    {
     "data": {
      "text/plain": [
       "(1, 2, 3)"
      ]
     },
     "execution_count": 23,
     "metadata": {},
     "output_type": "execute_result"
    }
   ],
   "source": [
    "# tuple inside tuple\n",
    "a = ((1,2,3),(4,5,6),(7,8,9))\n",
    "a[0]"
   ]
  },
  {
   "cell_type": "code",
   "execution_count": null,
   "metadata": {
    "id": "bh-7mFXSuscH",
    "outputId": "f63613cb-9cfa-4621-e416-26b53f0c02ec"
   },
   "outputs": [
    {
     "name": "stdout",
     "output_type": "stream",
     "text": [
      "Enter n = 2\n",
      "Enter name = Ram\n",
      "Enetr age = 34\n",
      "Enter add = Kathmandu\n",
      "Enter name = Shyam\n",
      "Enetr age = 45\n",
      "Enter add = Kathmandu\n",
      "(('Ram', 34, 'Kathmandu'), ('Shyam', 45, 'Kathmandu'))\n"
     ]
    }
   ],
   "source": [
    "a = ()\n",
    "n = int(input(\"Enter n = \"))\n",
    "for i in range(n):\n",
    "    name = input(\"Enter name = \")\n",
    "    age = int(input(\"Enetr age = \"))\n",
    "    add = input(\"Enter add = \")\n",
    "    a = a+((name,age,add),)\n",
    "    \n",
    "print(a)"
   ]
  },
  {
   "cell_type": "code",
   "execution_count": null,
   "metadata": {
    "id": "iHEALjAVuscH",
    "outputId": "3dfda6ee-3a69-408f-8268-61eca0508577"
   },
   "outputs": [
    {
     "name": "stdout",
     "output_type": "stream",
     "text": [
      "[24, 35, 35, 45, 234, 234]\n",
      "(234, 45, 234, 35, 24, 35)\n"
     ]
    }
   ],
   "source": [
    "a = (234,45,234,35,24,35)\n",
    "print(sorted(a))\n",
    "print(a)"
   ]
  },
  {
   "cell_type": "code",
   "execution_count": null,
   "metadata": {
    "id": "dym5ZtUPuscI",
    "outputId": "50b7c30b-bcfd-4b59-d4e3-e11cfe5dbd17"
   },
   "outputs": [
    {
     "data": {
      "text/plain": [
       "[('Ram', 34, 'Kathmandu'), ('Shyam', 45, 'Kathmandu')]"
      ]
     },
     "execution_count": 36,
     "metadata": {},
     "output_type": "execute_result"
    }
   ],
   "source": [
    "a = (('Ram', 34, 'Kathmandu'), ('Shyam', 45, 'Kathmandu'))\n",
    "b = list(a)\n",
    "b"
   ]
  },
  {
   "cell_type": "code",
   "execution_count": null,
   "metadata": {
    "id": "6IygnI_quscJ",
    "outputId": "3cfb4c98-354f-49ab-c7f2-dea81c355244"
   },
   "outputs": [
    {
     "data": {
      "text/plain": [
       "[('Ram', 34, 'Kathmandu'),\n",
       " ('Shyam', 45, 'Kathmandu'),\n",
       " ('Hari', 45, 'Lalitpur')]"
      ]
     },
     "execution_count": 35,
     "metadata": {},
     "output_type": "execute_result"
    }
   ],
   "source": [
    "b.append(('Hari',45,'Lalitpur'))\n",
    "b"
   ]
  },
  {
   "cell_type": "code",
   "execution_count": null,
   "metadata": {
    "id": "nJBnAKd3uscJ",
    "outputId": "ba08bc89-cf05-4f9f-da25-e00a9e2cc3e0"
   },
   "outputs": [
    {
     "data": {
      "text/plain": [
       "[('Rama', 67, 'Bara'), ('Shyam', 45, 'Kathmandu')]"
      ]
     },
     "execution_count": 39,
     "metadata": {},
     "output_type": "execute_result"
    }
   ],
   "source": [
    "b[0] = ('Rama',67,'Bara')\n",
    "b"
   ]
  },
  {
   "cell_type": "code",
   "execution_count": null,
   "metadata": {
    "id": "6Qn9ybGbuscK",
    "outputId": "feb4387a-a86c-4a76-a97d-f76ce301b13d"
   },
   "outputs": [
    {
     "data": {
      "text/plain": [
       "[('Shyam', 45, 'Kathmandu')]"
      ]
     },
     "execution_count": 40,
     "metadata": {},
     "output_type": "execute_result"
    }
   ],
   "source": [
    "del b[0]\n",
    "b"
   ]
  },
  {
   "cell_type": "code",
   "execution_count": null,
   "metadata": {
    "id": "EVJ6KBu0uscK",
    "outputId": "09195d5b-d296-4ab9-9633-05f096ce986d"
   },
   "outputs": [
    {
     "data": {
      "text/plain": [
       "('Rama', 67, 'Bara')"
      ]
     },
     "execution_count": 47,
     "metadata": {},
     "output_type": "execute_result"
    }
   ],
   "source": [
    "a = [('Rama', 67, 'Bara'), ('Shyam', 45, 'Kathmandu')]\n",
    "a[0]"
   ]
  },
  {
   "cell_type": "code",
   "execution_count": null,
   "metadata": {
    "id": "pQ1-EJv8uscK",
    "outputId": "e26db289-577b-4692-9985-15247bf95f27"
   },
   "outputs": [
    {
     "data": {
      "text/plain": [
       "['Rama', 67, 'Bara']"
      ]
     },
     "execution_count": 51,
     "metadata": {},
     "output_type": "execute_result"
    }
   ],
   "source": [
    "a = (['Rama', 67, 'Bara'], ['Shyam', 45, 'Kathmandu'])\n",
    "a[0]\n"
   ]
  },
  {
   "cell_type": "code",
   "execution_count": null,
   "metadata": {
    "id": "zkEpAzt1uscL",
    "outputId": "71d34544-3d7b-4fcd-92bc-1f6fe5727638"
   },
   "outputs": [
    {
     "data": {
      "text/plain": [
       "(['Rama', 67, 'Bara', 9867667654], ['Shyam', 45, 'Kathmandu', 9867667654])"
      ]
     },
     "execution_count": 52,
     "metadata": {},
     "output_type": "execute_result"
    }
   ],
   "source": [
    "a = (['Rama', 67, 'Bara'], ['Shyam', 45, 'Kathmandu'])\n",
    "a[0].append(9867667654)\n",
    "a[1].append(9867667654)\n",
    "a"
   ]
  },
  {
   "cell_type": "code",
   "execution_count": null,
   "metadata": {
    "id": "kwy7xdgVuscL",
    "outputId": "41cfebc9-7f4b-4c5e-c272-826a8988fbbc"
   },
   "outputs": [
    {
     "data": {
      "text/plain": [
       "(['Ram', 67, 'Bara'], ['Shyam', 45, 'Kathmandu'])"
      ]
     },
     "execution_count": 54,
     "metadata": {},
     "output_type": "execute_result"
    }
   ],
   "source": [
    "a = (['Rama', 67, 'Bara'], ['Shyam', 45, 'Kathmandu'])\n",
    "a[0][0] = \"Ram\"\n",
    "a"
   ]
  },
  {
   "cell_type": "code",
   "execution_count": null,
   "metadata": {
    "id": "0j_9CvwkuscL"
   },
   "outputs": [],
   "source": []
  }
 ],
 "metadata": {
  "colab": {
   "name": "tuple.ipynb",
   "provenance": []
  },
  "kernelspec": {
   "display_name": "Python 3 (ipykernel)",
   "language": "python",
   "name": "python3"
  },
  "language_info": {
   "codemirror_mode": {
    "name": "ipython",
    "version": 3
   },
   "file_extension": ".py",
   "mimetype": "text/x-python",
   "name": "python",
   "nbconvert_exporter": "python",
   "pygments_lexer": "ipython3",
   "version": "3.9.12"
  }
 },
 "nbformat": 4,
 "nbformat_minor": 1
}
