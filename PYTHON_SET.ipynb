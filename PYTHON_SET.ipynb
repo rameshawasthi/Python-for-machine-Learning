{
 "cells": [
  {
   "cell_type": "code",
   "execution_count": null,
   "id": "b202e388",
   "metadata": {},
   "outputs": [],
   "source": [
    "#SET\n",
    "# no Indexing\n",
    "#Unordered\n",
    "#Mutable\n",
    "#NO duplicate data\n",
    "#multiple values\n",
    "#{} -- empty dictonary not set "
   ]
  },
  {
   "cell_type": "code",
   "execution_count": 2,
   "id": "6987cf3c",
   "metadata": {},
   "outputs": [
    {
     "data": {
      "text/plain": [
       "set"
      ]
     },
     "execution_count": 2,
     "metadata": {},
     "output_type": "execute_result"
    }
   ],
   "source": [
    "s = {\"apple\",\"ball\",\"cat\",\"dog\"}\n",
    "s\n",
    "type(s)"
   ]
  },
  {
   "cell_type": "code",
   "execution_count": 4,
   "id": "c6a11472",
   "metadata": {},
   "outputs": [
    {
     "name": "stdout",
     "output_type": "stream",
     "text": [
      "{'dog', 'apple', 'cat', 'ball'}\n"
     ]
    }
   ],
   "source": [
    "print(s)"
   ]
  },
  {
   "cell_type": "code",
   "execution_count": 6,
   "id": "df75d44a",
   "metadata": {},
   "outputs": [
    {
     "name": "stdout",
     "output_type": "stream",
     "text": [
      "{12, 893, 11, 1452, 13}\n"
     ]
    }
   ],
   "source": [
    "s = {11,12,13,1452,893}\n",
    "print(s)"
   ]
  },
  {
   "cell_type": "code",
   "execution_count": 7,
   "id": "9c8e812c",
   "metadata": {},
   "outputs": [
    {
     "name": "stdout",
     "output_type": "stream",
     "text": [
      "{'dog', 'apple', 'cat', 'ball'}\n"
     ]
    }
   ],
   "source": [
    "s = {\"apple\",\"ball\",\"cat\",\"dog\",\"apple\"}\n",
    "print(s)  # does not support duplicate values"
   ]
  },
  {
   "cell_type": "code",
   "execution_count": 12,
   "id": "5986ec59",
   "metadata": {},
   "outputs": [
    {
     "data": {
      "text/plain": [
       "[33, 40, 43, 11, 21, 22]"
      ]
     },
     "execution_count": 12,
     "metadata": {},
     "output_type": "execute_result"
    }
   ],
   "source": [
    "s = [11,22,43,21,33,21,33,40]\n",
    "s = set(s)\n",
    "s = list(s)\n",
    "s"
   ]
  },
  {
   "cell_type": "code",
   "execution_count": 14,
   "id": "ffe91f6d",
   "metadata": {},
   "outputs": [
    {
     "name": "stdout",
     "output_type": "stream",
     "text": [
      "Enter n = 3\n",
      "Enter x = 212\n",
      "Enter x = 2124\n",
      "Enter x = 412\n",
      "{'412', '212', '2124'}\n"
     ]
    }
   ],
   "source": [
    "s = set()\n",
    "n = int(input(\"Enter n = \"))\n",
    "for i in range(n):\n",
    "    x = input(\"Enter x = \")\n",
    "    s.add(x)  # add fucntion like append\n",
    "print(s)"
   ]
  },
  {
   "cell_type": "code",
   "execution_count": 17,
   "id": "12522abe",
   "metadata": {},
   "outputs": [
    {
     "data": {
      "text/plain": [
       "{'ball', 'cat'}"
      ]
     },
     "execution_count": 17,
     "metadata": {},
     "output_type": "execute_result"
    }
   ],
   "source": [
    "s = {'apple','cat','ball'}\n",
    "s.remove('apple')\n",
    "s"
   ]
  },
  {
   "cell_type": "code",
   "execution_count": 19,
   "id": "22469332",
   "metadata": {},
   "outputs": [
    {
     "name": "stdout",
     "output_type": "stream",
     "text": [
      "{'Tara', 'shyam', 'Sabin', 'Nabin', 'Hari', 'Ram', 'sita'}\n"
     ]
    }
   ],
   "source": [
    "a = {\"Ram\",\"shyam\",\"Hari\",\"sita\",\"Nabin\"}\n",
    "b = {\"Nabin\",\"Tara\",\"Sabin\",\"Ram\",\"Nabin\"}\n",
    "#no concatination in set and dictonary\n",
    "#union and update function\n",
    "a.update(b)\n",
    "print(a)"
   ]
  },
  {
   "cell_type": "code",
   "execution_count": 20,
   "id": "0112afdd",
   "metadata": {},
   "outputs": [
    {
     "data": {
      "text/plain": [
       "{'Hari', 'Nabin', 'Ram', 'Sabin', 'Tara', 'shyam', 'sita'}"
      ]
     },
     "execution_count": 20,
     "metadata": {},
     "output_type": "execute_result"
    }
   ],
   "source": [
    "a = {\"Ram\",\"shyam\",\"Hari\",\"sita\",\"Nabin\"}\n",
    "b = {\"Nabin\",\"Tara\",\"Sabin\",\"Ram\",\"Nabin\"}\n",
    "a.union(b)"
   ]
  },
  {
   "cell_type": "code",
   "execution_count": 21,
   "id": "78af77dc",
   "metadata": {},
   "outputs": [
    {
     "data": {
      "text/plain": [
       "{'Nabin', 'Ram'}"
      ]
     },
     "execution_count": 21,
     "metadata": {},
     "output_type": "execute_result"
    }
   ],
   "source": [
    "a = {\"Ram\",\"shyam\",\"Hari\",\"sita\",\"Nabin\"}\n",
    "b = {\"Nabin\",\"Tara\",\"Sabin\",\"Ram\",\"Nabin\"}\n",
    "a.intersection(b)\n"
   ]
  },
  {
   "cell_type": "code",
   "execution_count": 22,
   "id": "792be58a",
   "metadata": {},
   "outputs": [
    {
     "data": {
      "text/plain": [
       "2"
      ]
     },
     "execution_count": 22,
     "metadata": {},
     "output_type": "execute_result"
    }
   ],
   "source": [
    "a = {\"Ram\",\"shyam\",\"Hari\",\"sita\",\"Nabin\"}\n",
    "b = {\"Nabin\",\"Tara\",\"Sabin\",\"Ram\",\"Nabin\"}\n",
    "x = a.intersection(b)\n",
    "len(x) # lenght of set"
   ]
  },
  {
   "cell_type": "code",
   "execution_count": 23,
   "id": "8ec4cfde",
   "metadata": {},
   "outputs": [
    {
     "data": {
      "text/plain": [
       "{'Hari', 'shyam', 'sita'}"
      ]
     },
     "execution_count": 23,
     "metadata": {},
     "output_type": "execute_result"
    }
   ],
   "source": [
    "a.difference(b)"
   ]
  },
  {
   "cell_type": "code",
   "execution_count": 24,
   "id": "fced7f88",
   "metadata": {},
   "outputs": [
    {
     "data": {
      "text/plain": [
       "{'Sabin', 'Tara'}"
      ]
     },
     "execution_count": 24,
     "metadata": {},
     "output_type": "execute_result"
    }
   ],
   "source": [
    "b.difference(a)"
   ]
  },
  {
   "cell_type": "code",
   "execution_count": 25,
   "id": "899feb16",
   "metadata": {},
   "outputs": [
    {
     "data": {
      "text/plain": [
       "False"
      ]
     },
     "execution_count": 25,
     "metadata": {},
     "output_type": "execute_result"
    }
   ],
   "source": [
    "a.isdisjoint(b)"
   ]
  },
  {
   "cell_type": "code",
   "execution_count": 27,
   "id": "04a9db6d",
   "metadata": {},
   "outputs": [
    {
     "data": {
      "text/plain": [
       "True"
      ]
     },
     "execution_count": 27,
     "metadata": {},
     "output_type": "execute_result"
    }
   ],
   "source": [
    "#super set \n",
    "a = {1,2,3,4}\n",
    "b = {1,2,3,4,5,6}\n",
    "a.issubset(b)"
   ]
  },
  {
   "cell_type": "code",
   "execution_count": 32,
   "id": "39fcea2b",
   "metadata": {},
   "outputs": [
    {
     "data": {
      "text/plain": [
       "True"
      ]
     },
     "execution_count": 32,
     "metadata": {},
     "output_type": "execute_result"
    }
   ],
   "source": [
    "b.issuperset(a)"
   ]
  },
  {
   "cell_type": "code",
   "execution_count": 34,
   "id": "8ff40d01",
   "metadata": {},
   "outputs": [
    {
     "data": {
      "text/plain": [
       "{'john', 'mike'}"
      ]
     },
     "execution_count": 34,
     "metadata": {},
     "output_type": "execute_result"
    }
   ],
   "source": [
    "U = {\"ram\",\"shyam\",\"Hari\",\"sita\",\"Nabin\",\"jobs\",\"mike\",\"john\"}\n",
    "apple = {\"ram\",\"shyam\",\"Hari\",\"sita\",\"Nabin\",\"jobs\"}\n",
    "ms = {\"nabin\",\"Tara\",\"hari\",\"sita\",\"gates\"}\n",
    "un = apple.union(ms)\n",
    "U.difference(un)"
   ]
  },
  {
   "cell_type": "code",
   "execution_count": null,
   "id": "3142ae46",
   "metadata": {},
   "outputs": [],
   "source": []
  }
 ],
 "metadata": {
  "kernelspec": {
   "display_name": "Python 3 (ipykernel)",
   "language": "python",
   "name": "python3"
  },
  "language_info": {
   "codemirror_mode": {
    "name": "ipython",
    "version": 3
   },
   "file_extension": ".py",
   "mimetype": "text/x-python",
   "name": "python",
   "nbconvert_exporter": "python",
   "pygments_lexer": "ipython3",
   "version": "3.9.12"
  }
 },
 "nbformat": 4,
 "nbformat_minor": 5
}
