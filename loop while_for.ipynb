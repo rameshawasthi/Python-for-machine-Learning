{
 "cells": [
  {
   "cell_type": "code",
   "execution_count": 1,
   "id": "4b85485c",
   "metadata": {},
   "outputs": [
    {
     "name": "stdout",
     "output_type": "stream",
     "text": [
      "Enter the number= 3\n",
      "1\n",
      "2\n",
      "6\n"
     ]
    }
   ],
   "source": [
    "num = int(input(\"Enter the number= \"))\n",
    "fact = 1\n",
    "val = 1\n",
    "while val<=num:\n",
    "    fact =fact*val\n",
    "    val = val+1\n",
    "    print(fact)"
   ]
  },
  {
   "cell_type": "code",
   "execution_count": 21,
   "id": "15954292",
   "metadata": {},
   "outputs": [
    {
     "name": "stdout",
     "output_type": "stream",
     "text": [
      "Enter the value = 5\n",
      "1\n",
      "2\n",
      "6\n",
      "24\n",
      "120\n"
     ]
    }
   ],
   "source": [
    "facto = 1\n",
    "num = int(input(\"Enter the value = \"))\n",
    "for i in range (1,num+1):\n",
    "    facto = facto*i\n",
    "    print(facto)"
   ]
  },
  {
   "cell_type": "code",
   "execution_count": 4,
   "id": "f2934a14",
   "metadata": {},
   "outputs": [
    {
     "name": "stdout",
     "output_type": "stream",
     "text": [
      "8\n",
      "56\n"
     ]
    }
   ],
   "source": [
    "def calclu(a,b,c):\n",
    "    sum = a+b+c\n",
    "    print(sum)\n",
    "calclu(1,4,3)\n",
    "calclu(1,2,53)\n",
    "    "
   ]
  },
  {
   "cell_type": "code",
   "execution_count": 14,
   "id": "1cdbd2a3",
   "metadata": {},
   "outputs": [
    {
     "name": "stdout",
     "output_type": "stream",
     "text": [
      "1\n",
      "2\n",
      "3\n",
      "\n",
      "2\n",
      "4\n",
      "6\n",
      "\n",
      "3\n",
      "6\n",
      "9\n",
      "\n",
      "4\n",
      "8\n",
      "12\n",
      "\n"
     ]
    }
   ],
   "source": [
    "for i in range(1,5):\n",
    "    for j in range(1,4):\n",
    "        print(i*j)\n",
    "    print()\n",
    "        "
   ]
  },
  {
   "cell_type": "code",
   "execution_count": null,
   "id": "5e1fe45c",
   "metadata": {},
   "outputs": [],
   "source": []
  },
  {
   "cell_type": "code",
   "execution_count": null,
   "id": "28ce3158",
   "metadata": {},
   "outputs": [],
   "source": []
  }
 ],
 "metadata": {
  "kernelspec": {
   "display_name": "Python 3 (ipykernel)",
   "language": "python",
   "name": "python3"
  },
  "language_info": {
   "codemirror_mode": {
    "name": "ipython",
    "version": 3
   },
   "file_extension": ".py",
   "mimetype": "text/x-python",
   "name": "python",
   "nbconvert_exporter": "python",
   "pygments_lexer": "ipython3",
   "version": "3.9.12"
  }
 },
 "nbformat": 4,
 "nbformat_minor": 5
}
